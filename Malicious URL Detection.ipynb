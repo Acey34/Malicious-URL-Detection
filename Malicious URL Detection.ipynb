{
 "cells": [
  {
   "cell_type": "markdown",
   "metadata": {},
   "source": [
    "# Malicious URL Filter \n",
    "\n",
    "6006-CEM Coursework - Project"
   ]
  },
  {
   "cell_type": "markdown",
   "metadata": {},
   "source": [
    "# 1. Objective\n",
    "The object of the notebook is to classify if an URL is malicious or legitimate. A phishing website is a threat in the cybersecurity, one of the most popular social engineering type of attacks. A malicious urls host untrusted data with the idea to lure users to become victims of scam. Most of the times, the victim ends up compromising personal information. "
   ]
  },
  {
   "cell_type": "markdown",
   "metadata": {},
   "source": [
    "# 2. Data Collection\n",
    "\n",
    "The Dataset used in the notebook is gathered from several sources. \n",
    "\n",
    "For the project we use great amount of urls, labeled as (1) Malicious and (0) Benign.\n",
    "\n",
    "The Dataset for the malicious urls has been taken from 'http://phishtank.org/developer_info.php', which provides us with almost 15000 phishing urls. The dataset is being updated hourly.\n",
    "\n",
    "In the process of collecting the dataset of benign urls, we used source such as : 'https://www.kaggle.com/' and a dataset from University of New Brunswick - https://www.unb.ca/cic/datasets/url-2016.htm. One of the datasets contains almost over 35000 benign URLs. \n",
    " "
   ]
  },
  {
   "cell_type": "code",
   "execution_count": 1,
   "metadata": {
    "collapsed": true
   },
   "outputs": [],
   "source": [
    "# Importing required packages\n",
    "\n",
    "import pandas as pd\n",
    "import numpy as np\n"
   ]
  },
  {
   "cell_type": "markdown",
   "metadata": {},
   "source": [
    "# 3. Malicious URLs"
   ]
  },
  {
   "cell_type": "markdown",
   "metadata": {},
   "source": [
    "Saving the data from phishtank into a dataframe which will be pre-process later."
   ]
  },
  {
   "cell_type": "code",
   "execution_count": 2,
   "metadata": {},
   "outputs": [
    {
     "data": {
      "text/html": [
       "<div>\n",
       "<style>\n",
       "    .dataframe thead tr:only-child th {\n",
       "        text-align: right;\n",
       "    }\n",
       "\n",
       "    .dataframe thead th {\n",
       "        text-align: left;\n",
       "    }\n",
       "\n",
       "    .dataframe tbody tr th {\n",
       "        vertical-align: top;\n",
       "    }\n",
       "</style>\n",
       "<table border=\"1\" class=\"dataframe\">\n",
       "  <thead>\n",
       "    <tr style=\"text-align: right;\">\n",
       "      <th></th>\n",
       "      <th>phish_id</th>\n",
       "      <th>url</th>\n",
       "      <th>phish_detail_url</th>\n",
       "      <th>submission_time</th>\n",
       "      <th>verified</th>\n",
       "      <th>verification_time</th>\n",
       "      <th>online</th>\n",
       "      <th>target</th>\n",
       "    </tr>\n",
       "  </thead>\n",
       "  <tbody>\n",
       "    <tr>\n",
       "      <th>0</th>\n",
       "      <td>6852013</td>\n",
       "      <td>https://pubgeventgetnow.com/</td>\n",
       "      <td>http://www.phishtank.com/phish_detail.php?phis...</td>\n",
       "      <td>2020-11-17T08:05:01+00:00</td>\n",
       "      <td>yes</td>\n",
       "      <td>2020-11-17T08:06:46+00:00</td>\n",
       "      <td>yes</td>\n",
       "      <td>Other</td>\n",
       "    </tr>\n",
       "    <tr>\n",
       "      <th>1</th>\n",
       "      <td>6852012</td>\n",
       "      <td>http://pubgeventgetnow.com/</td>\n",
       "      <td>http://www.phishtank.com/phish_detail.php?phis...</td>\n",
       "      <td>2020-11-17T08:05:00+00:00</td>\n",
       "      <td>yes</td>\n",
       "      <td>2020-11-17T08:06:46+00:00</td>\n",
       "      <td>yes</td>\n",
       "      <td>Other</td>\n",
       "    </tr>\n",
       "    <tr>\n",
       "      <th>2</th>\n",
       "      <td>6852011</td>\n",
       "      <td>https://biolinky.co/infopubgmobile2020</td>\n",
       "      <td>http://www.phishtank.com/phish_detail.php?phis...</td>\n",
       "      <td>2020-11-17T08:04:45+00:00</td>\n",
       "      <td>yes</td>\n",
       "      <td>2020-11-17T08:06:02+00:00</td>\n",
       "      <td>yes</td>\n",
       "      <td>Other</td>\n",
       "    </tr>\n",
       "    <tr>\n",
       "      <th>3</th>\n",
       "      <td>6852009</td>\n",
       "      <td>https://hallosp.in/</td>\n",
       "      <td>http://www.phishtank.com/phish_detail.php?phis...</td>\n",
       "      <td>2020-11-17T08:03:46+00:00</td>\n",
       "      <td>yes</td>\n",
       "      <td>2020-11-17T08:06:02+00:00</td>\n",
       "      <td>yes</td>\n",
       "      <td>Other</td>\n",
       "    </tr>\n",
       "    <tr>\n",
       "      <th>4</th>\n",
       "      <td>6852001</td>\n",
       "      <td>https://www.rakuten-c0.jp3.4efa7aed6eaefc9b1ac...</td>\n",
       "      <td>http://www.phishtank.com/phish_detail.php?phis...</td>\n",
       "      <td>2020-11-17T07:59:32+00:00</td>\n",
       "      <td>yes</td>\n",
       "      <td>2020-11-17T08:03:53+00:00</td>\n",
       "      <td>yes</td>\n",
       "      <td>Other</td>\n",
       "    </tr>\n",
       "  </tbody>\n",
       "</table>\n",
       "</div>"
      ],
      "text/plain": [
       "   phish_id                                                url  \\\n",
       "0   6852013                       https://pubgeventgetnow.com/   \n",
       "1   6852012                        http://pubgeventgetnow.com/   \n",
       "2   6852011             https://biolinky.co/infopubgmobile2020   \n",
       "3   6852009                                https://hallosp.in/   \n",
       "4   6852001  https://www.rakuten-c0.jp3.4efa7aed6eaefc9b1ac...   \n",
       "\n",
       "                                    phish_detail_url  \\\n",
       "0  http://www.phishtank.com/phish_detail.php?phis...   \n",
       "1  http://www.phishtank.com/phish_detail.php?phis...   \n",
       "2  http://www.phishtank.com/phish_detail.php?phis...   \n",
       "3  http://www.phishtank.com/phish_detail.php?phis...   \n",
       "4  http://www.phishtank.com/phish_detail.php?phis...   \n",
       "\n",
       "             submission_time verified          verification_time online target  \n",
       "0  2020-11-17T08:05:01+00:00      yes  2020-11-17T08:06:46+00:00    yes  Other  \n",
       "1  2020-11-17T08:05:00+00:00      yes  2020-11-17T08:06:46+00:00    yes  Other  \n",
       "2  2020-11-17T08:04:45+00:00      yes  2020-11-17T08:06:02+00:00    yes  Other  \n",
       "3  2020-11-17T08:03:46+00:00      yes  2020-11-17T08:06:02+00:00    yes  Other  \n",
       "4  2020-11-17T07:59:32+00:00      yes  2020-11-17T08:03:53+00:00    yes  Other  "
      ]
     },
     "execution_count": 2,
     "metadata": {},
     "output_type": "execute_result"
    }
   ],
   "source": [
    "# Loading the malicious URLs data \n",
    "# by calling the function 'read_csv' a dataframe is created\n",
    "data_phishing = pd.read_csv(\"phishing_url.csv\")\n",
    "# showing the first 5 URLs from the datarame by slicing the object\n",
    "data_phishing.iloc[0:5]\n"
   ]
  },
  {
   "cell_type": "markdown",
   "metadata": {},
   "source": [
    "# 3.1 Familiarising with the dataframe  "
   ]
  },
  {
   "cell_type": "code",
   "execution_count": 3,
   "metadata": {},
   "outputs": [
    {
     "data": {
      "text/html": [
       "<div>\n",
       "<style>\n",
       "    .dataframe thead tr:only-child th {\n",
       "        text-align: right;\n",
       "    }\n",
       "\n",
       "    .dataframe thead th {\n",
       "        text-align: left;\n",
       "    }\n",
       "\n",
       "    .dataframe tbody tr th {\n",
       "        vertical-align: top;\n",
       "    }\n",
       "</style>\n",
       "<table border=\"1\" class=\"dataframe\">\n",
       "  <thead>\n",
       "    <tr style=\"text-align: right;\">\n",
       "      <th></th>\n",
       "      <th>phish_id</th>\n",
       "      <th>url</th>\n",
       "      <th>phish_detail_url</th>\n",
       "      <th>submission_time</th>\n",
       "      <th>verified</th>\n",
       "      <th>verification_time</th>\n",
       "      <th>online</th>\n",
       "      <th>target</th>\n",
       "    </tr>\n",
       "  </thead>\n",
       "  <tbody>\n",
       "    <tr>\n",
       "      <th>count</th>\n",
       "      <td>1.493100e+04</td>\n",
       "      <td>14931</td>\n",
       "      <td>14931</td>\n",
       "      <td>14931</td>\n",
       "      <td>14931</td>\n",
       "      <td>14931</td>\n",
       "      <td>14931</td>\n",
       "      <td>14931</td>\n",
       "    </tr>\n",
       "    <tr>\n",
       "      <th>unique</th>\n",
       "      <td>NaN</td>\n",
       "      <td>14927</td>\n",
       "      <td>14931</td>\n",
       "      <td>14028</td>\n",
       "      <td>1</td>\n",
       "      <td>10532</td>\n",
       "      <td>1</td>\n",
       "      <td>92</td>\n",
       "    </tr>\n",
       "    <tr>\n",
       "      <th>top</th>\n",
       "      <td>NaN</td>\n",
       "      <td>http://profinishmi.com/dd/Upgrade/verify/mail....</td>\n",
       "      <td>http://www.phishtank.com/phish_detail.php?phis...</td>\n",
       "      <td>2020-11-08T23:08:57+00:00</td>\n",
       "      <td>yes</td>\n",
       "      <td>2020-11-16T14:13:51+00:00</td>\n",
       "      <td>yes</td>\n",
       "      <td>Other</td>\n",
       "    </tr>\n",
       "    <tr>\n",
       "      <th>freq</th>\n",
       "      <td>NaN</td>\n",
       "      <td>2</td>\n",
       "      <td>1</td>\n",
       "      <td>13</td>\n",
       "      <td>14931</td>\n",
       "      <td>23</td>\n",
       "      <td>14931</td>\n",
       "      <td>12876</td>\n",
       "    </tr>\n",
       "    <tr>\n",
       "      <th>mean</th>\n",
       "      <td>6.602575e+06</td>\n",
       "      <td>NaN</td>\n",
       "      <td>NaN</td>\n",
       "      <td>NaN</td>\n",
       "      <td>NaN</td>\n",
       "      <td>NaN</td>\n",
       "      <td>NaN</td>\n",
       "      <td>NaN</td>\n",
       "    </tr>\n",
       "    <tr>\n",
       "      <th>std</th>\n",
       "      <td>4.419109e+05</td>\n",
       "      <td>NaN</td>\n",
       "      <td>NaN</td>\n",
       "      <td>NaN</td>\n",
       "      <td>NaN</td>\n",
       "      <td>NaN</td>\n",
       "      <td>NaN</td>\n",
       "      <td>NaN</td>\n",
       "    </tr>\n",
       "    <tr>\n",
       "      <th>min</th>\n",
       "      <td>5.491590e+05</td>\n",
       "      <td>NaN</td>\n",
       "      <td>NaN</td>\n",
       "      <td>NaN</td>\n",
       "      <td>NaN</td>\n",
       "      <td>NaN</td>\n",
       "      <td>NaN</td>\n",
       "      <td>NaN</td>\n",
       "    </tr>\n",
       "    <tr>\n",
       "      <th>25%</th>\n",
       "      <td>6.540191e+06</td>\n",
       "      <td>NaN</td>\n",
       "      <td>NaN</td>\n",
       "      <td>NaN</td>\n",
       "      <td>NaN</td>\n",
       "      <td>NaN</td>\n",
       "      <td>NaN</td>\n",
       "      <td>NaN</td>\n",
       "    </tr>\n",
       "    <tr>\n",
       "      <th>50%</th>\n",
       "      <td>6.737751e+06</td>\n",
       "      <td>NaN</td>\n",
       "      <td>NaN</td>\n",
       "      <td>NaN</td>\n",
       "      <td>NaN</td>\n",
       "      <td>NaN</td>\n",
       "      <td>NaN</td>\n",
       "      <td>NaN</td>\n",
       "    </tr>\n",
       "    <tr>\n",
       "      <th>75%</th>\n",
       "      <td>6.838918e+06</td>\n",
       "      <td>NaN</td>\n",
       "      <td>NaN</td>\n",
       "      <td>NaN</td>\n",
       "      <td>NaN</td>\n",
       "      <td>NaN</td>\n",
       "      <td>NaN</td>\n",
       "      <td>NaN</td>\n",
       "    </tr>\n",
       "    <tr>\n",
       "      <th>max</th>\n",
       "      <td>6.852013e+06</td>\n",
       "      <td>NaN</td>\n",
       "      <td>NaN</td>\n",
       "      <td>NaN</td>\n",
       "      <td>NaN</td>\n",
       "      <td>NaN</td>\n",
       "      <td>NaN</td>\n",
       "      <td>NaN</td>\n",
       "    </tr>\n",
       "  </tbody>\n",
       "</table>\n",
       "</div>"
      ],
      "text/plain": [
       "            phish_id                                                url  \\\n",
       "count   1.493100e+04                                              14931   \n",
       "unique           NaN                                              14927   \n",
       "top              NaN  http://profinishmi.com/dd/Upgrade/verify/mail....   \n",
       "freq             NaN                                                  2   \n",
       "mean    6.602575e+06                                                NaN   \n",
       "std     4.419109e+05                                                NaN   \n",
       "min     5.491590e+05                                                NaN   \n",
       "25%     6.540191e+06                                                NaN   \n",
       "50%     6.737751e+06                                                NaN   \n",
       "75%     6.838918e+06                                                NaN   \n",
       "max     6.852013e+06                                                NaN   \n",
       "\n",
       "                                         phish_detail_url  \\\n",
       "count                                               14931   \n",
       "unique                                              14931   \n",
       "top     http://www.phishtank.com/phish_detail.php?phis...   \n",
       "freq                                                    1   \n",
       "mean                                                  NaN   \n",
       "std                                                   NaN   \n",
       "min                                                   NaN   \n",
       "25%                                                   NaN   \n",
       "50%                                                   NaN   \n",
       "75%                                                   NaN   \n",
       "max                                                   NaN   \n",
       "\n",
       "                  submission_time verified          verification_time online  \\\n",
       "count                       14931    14931                      14931  14931   \n",
       "unique                      14028        1                      10532      1   \n",
       "top     2020-11-08T23:08:57+00:00      yes  2020-11-16T14:13:51+00:00    yes   \n",
       "freq                           13    14931                         23  14931   \n",
       "mean                          NaN      NaN                        NaN    NaN   \n",
       "std                           NaN      NaN                        NaN    NaN   \n",
       "min                           NaN      NaN                        NaN    NaN   \n",
       "25%                           NaN      NaN                        NaN    NaN   \n",
       "50%                           NaN      NaN                        NaN    NaN   \n",
       "75%                           NaN      NaN                        NaN    NaN   \n",
       "max                           NaN      NaN                        NaN    NaN   \n",
       "\n",
       "       target  \n",
       "count   14931  \n",
       "unique     92  \n",
       "top     Other  \n",
       "freq    12876  \n",
       "mean      NaN  \n",
       "std       NaN  \n",
       "min       NaN  \n",
       "25%       NaN  \n",
       "50%       NaN  \n",
       "75%       NaN  \n",
       "max       NaN  "
      ]
     },
     "execution_count": 3,
     "metadata": {},
     "output_type": "execute_result"
    }
   ],
   "source": [
    "# Describing all columns of the DataFrame regardless the data type\n",
    "data_phishing.describe(include='all')"
   ]
  },
  {
   "cell_type": "code",
   "execution_count": 4,
   "metadata": {},
   "outputs": [
    {
     "name": "stdout",
     "output_type": "stream",
     "text": [
      "<class 'pandas.core.frame.DataFrame'>\n",
      "RangeIndex: 14931 entries, 0 to 14930\n",
      "Data columns (total 8 columns):\n",
      "phish_id             14931 non-null int64\n",
      "url                  14931 non-null object\n",
      "phish_detail_url     14931 non-null object\n",
      "submission_time      14931 non-null object\n",
      "verified             14931 non-null object\n",
      "verification_time    14931 non-null object\n",
      "online               14931 non-null object\n",
      "target               14931 non-null object\n",
      "dtypes: int64(1), object(7)\n",
      "memory usage: 933.3+ KB\n"
     ]
    }
   ],
   "source": [
    "# Prints a summary of all the columns in the DataFrame\n",
    "# the summary uncludes the index dtype and columns, non-null values and memory usage.\n",
    "data_phishing.info(verbose = True)"
   ]
  },
  {
   "cell_type": "code",
   "execution_count": 5,
   "metadata": {
    "scrolled": true
   },
   "outputs": [
    {
     "data": {
      "text/plain": [
       "phish_id             False\n",
       "url                  False\n",
       "phish_detail_url     False\n",
       "submission_time      False\n",
       "verified             False\n",
       "verification_time    False\n",
       "online               False\n",
       "target               False\n",
       "dtype: bool"
      ]
     },
     "execution_count": 5,
     "metadata": {},
     "output_type": "execute_result"
    }
   ],
   "source": [
    "# Checking for missing values accross columns\n",
    "# Return a boolean object indicating if any values accross the columns are None\n",
    "# in case of null values the object gets mapped to True values. \n",
    "# Everything else gets mapped to False values.\n",
    "data_phishing.isnull().any()"
   ]
  },
  {
   "cell_type": "code",
   "execution_count": 6,
   "metadata": {},
   "outputs": [
    {
     "data": {
      "text/plain": [
       "(14931, 8)"
      ]
     },
     "execution_count": 6,
     "metadata": {},
     "output_type": "execute_result"
    }
   ],
   "source": [
    "# Returns a tuple representing the dimensionality of the DataFrame\n",
    "data_phishing.shape"
   ]
  },
  {
   "cell_type": "markdown",
   "metadata": {},
   "source": [
    "The aim of the notebook is to use 7500 benign URLs and 7500 Malicious URL, later combined into one dataset.\n",
    "Therefore, we picking a sample of 7500 Malicious URLs randomly"
   ]
  },
  {
   "cell_type": "code",
   "execution_count": 7,
   "metadata": {
    "scrolled": true
   },
   "outputs": [
    {
     "data": {
      "text/html": [
       "<div>\n",
       "<style>\n",
       "    .dataframe thead tr:only-child th {\n",
       "        text-align: right;\n",
       "    }\n",
       "\n",
       "    .dataframe thead th {\n",
       "        text-align: left;\n",
       "    }\n",
       "\n",
       "    .dataframe tbody tr th {\n",
       "        vertical-align: top;\n",
       "    }\n",
       "</style>\n",
       "<table border=\"1\" class=\"dataframe\">\n",
       "  <thead>\n",
       "    <tr style=\"text-align: right;\">\n",
       "      <th></th>\n",
       "      <th>phish_id</th>\n",
       "      <th>url</th>\n",
       "      <th>phish_detail_url</th>\n",
       "      <th>submission_time</th>\n",
       "      <th>verified</th>\n",
       "      <th>verification_time</th>\n",
       "      <th>online</th>\n",
       "      <th>target</th>\n",
       "    </tr>\n",
       "  </thead>\n",
       "  <tbody>\n",
       "    <tr>\n",
       "      <th>7495</th>\n",
       "      <td>2406142</td>\n",
       "      <td>http://www.jeffreybcam.net/wp-admin/new/admini...</td>\n",
       "      <td>http://www.phishtank.com/phish_detail.php?phis...</td>\n",
       "      <td>2014-04-16T07:13:55+00:00</td>\n",
       "      <td>yes</td>\n",
       "      <td>2014-04-26T09:45:00+00:00</td>\n",
       "      <td>yes</td>\n",
       "      <td>Other</td>\n",
       "    </tr>\n",
       "    <tr>\n",
       "      <th>7496</th>\n",
       "      <td>6368220</td>\n",
       "      <td>http://cafecitoperez.ivanidzakovic.com/admin/a...</td>\n",
       "      <td>http://www.phishtank.com/phish_detail.php?phis...</td>\n",
       "      <td>2020-01-23T14:05:24+00:00</td>\n",
       "      <td>yes</td>\n",
       "      <td>2020-01-23T14:51:43+00:00</td>\n",
       "      <td>yes</td>\n",
       "      <td>Other</td>\n",
       "    </tr>\n",
       "    <tr>\n",
       "      <th>7497</th>\n",
       "      <td>6851079</td>\n",
       "      <td>https://lloydsbank.authenticate-device-registr...</td>\n",
       "      <td>http://www.phishtank.com/phish_detail.php?phis...</td>\n",
       "      <td>2020-11-16T14:16:19+00:00</td>\n",
       "      <td>yes</td>\n",
       "      <td>2020-11-16T14:19:37+00:00</td>\n",
       "      <td>yes</td>\n",
       "      <td>Other</td>\n",
       "    </tr>\n",
       "    <tr>\n",
       "      <th>7498</th>\n",
       "      <td>6720133</td>\n",
       "      <td>http://dimasrv.com/</td>\n",
       "      <td>http://www.phishtank.com/phish_detail.php?phis...</td>\n",
       "      <td>2020-08-05T15:44:40+00:00</td>\n",
       "      <td>yes</td>\n",
       "      <td>2020-08-05T15:48:26+00:00</td>\n",
       "      <td>yes</td>\n",
       "      <td>Other</td>\n",
       "    </tr>\n",
       "    <tr>\n",
       "      <th>7499</th>\n",
       "      <td>6714171</td>\n",
       "      <td>http://www.sexologistdoctors.com/wp-content/pl...</td>\n",
       "      <td>http://www.phishtank.com/phish_detail.php?phis...</td>\n",
       "      <td>2020-08-02T07:04:17+00:00</td>\n",
       "      <td>yes</td>\n",
       "      <td>2020-08-02T07:06:14+00:00</td>\n",
       "      <td>yes</td>\n",
       "      <td>Other</td>\n",
       "    </tr>\n",
       "  </tbody>\n",
       "</table>\n",
       "</div>"
      ],
      "text/plain": [
       "      phish_id                                                url  \\\n",
       "7495   2406142  http://www.jeffreybcam.net/wp-admin/new/admini...   \n",
       "7496   6368220  http://cafecitoperez.ivanidzakovic.com/admin/a...   \n",
       "7497   6851079  https://lloydsbank.authenticate-device-registr...   \n",
       "7498   6720133                                http://dimasrv.com/   \n",
       "7499   6714171  http://www.sexologistdoctors.com/wp-content/pl...   \n",
       "\n",
       "                                       phish_detail_url  \\\n",
       "7495  http://www.phishtank.com/phish_detail.php?phis...   \n",
       "7496  http://www.phishtank.com/phish_detail.php?phis...   \n",
       "7497  http://www.phishtank.com/phish_detail.php?phis...   \n",
       "7498  http://www.phishtank.com/phish_detail.php?phis...   \n",
       "7499  http://www.phishtank.com/phish_detail.php?phis...   \n",
       "\n",
       "                submission_time verified          verification_time online  \\\n",
       "7495  2014-04-16T07:13:55+00:00      yes  2014-04-26T09:45:00+00:00    yes   \n",
       "7496  2020-01-23T14:05:24+00:00      yes  2020-01-23T14:51:43+00:00    yes   \n",
       "7497  2020-11-16T14:16:19+00:00      yes  2020-11-16T14:19:37+00:00    yes   \n",
       "7498  2020-08-05T15:44:40+00:00      yes  2020-08-05T15:48:26+00:00    yes   \n",
       "7499  2020-08-02T07:04:17+00:00      yes  2020-08-02T07:06:14+00:00    yes   \n",
       "\n",
       "     target  \n",
       "7495  Other  \n",
       "7496  Other  \n",
       "7497  Other  \n",
       "7498  Other  \n",
       "7499  Other  "
      ]
     },
     "execution_count": 7,
     "metadata": {},
     "output_type": "execute_result"
    }
   ],
   "source": [
    "# Extracting 7500 Malicious URLs randomly from the dataframe\n",
    "\n",
    "# Return a random sample of items from an object\n",
    "# We use random_state for reproducibility.\n",
    "\n",
    "phishing_data = data_phishing.sample(n = 7500, random_state = 12).copy(deep=True)\n",
    "\n",
    "# a new object will be created with a copy of the calling object’s data and indices. \n",
    "# Modifications to the data or indices of the copy will not be reflected in the original object.\n",
    "\n",
    "# Reset the index of the DataFrame once we have picked the 7500 samples\n",
    "# This resets the index to the default integer index.\n",
    "\n",
    "phishing_data = phishing_data.reset_index(drop=True)\n",
    "\n",
    "# We make sure we retrieved exactly 7500 urls.\n",
    "phishing_data.tail()\n"
   ]
  },
  {
   "cell_type": "code",
   "execution_count": 8,
   "metadata": {},
   "outputs": [
    {
     "data": {
      "text/plain": [
       "(7500, 8)"
      ]
     },
     "execution_count": 8,
     "metadata": {},
     "output_type": "execute_result"
    }
   ],
   "source": [
    "# Return the Dataframe with duplicate rows removed, if any.\n",
    "phishing_data.drop_duplicates(inplace=True)\n",
    "\n",
    "# We check if any rows have been removed.\n",
    "phishing_data.shape\n"
   ]
  },
  {
   "cell_type": "markdown",
   "metadata": {},
   "source": [
    "# 4. Legitimate URLs\n",
    "\n",
    "The legitimate URLs has been gathered from the sources mentioned above and combined manually into one. \n",
    "\n",
    "The same techniques showed above for the \"3. Malicious URLs\" section will be applied here as well."
   ]
  },
  {
   "cell_type": "code",
   "execution_count": 9,
   "metadata": {
    "scrolled": true
   },
   "outputs": [
    {
     "data": {
      "text/html": [
       "<div>\n",
       "<style>\n",
       "    .dataframe thead tr:only-child th {\n",
       "        text-align: right;\n",
       "    }\n",
       "\n",
       "    .dataframe thead th {\n",
       "        text-align: left;\n",
       "    }\n",
       "\n",
       "    .dataframe tbody tr th {\n",
       "        vertical-align: top;\n",
       "    }\n",
       "</style>\n",
       "<table border=\"1\" class=\"dataframe\">\n",
       "  <thead>\n",
       "    <tr style=\"text-align: right;\">\n",
       "      <th></th>\n",
       "      <th>URLs</th>\n",
       "    </tr>\n",
       "  </thead>\n",
       "  <tbody>\n",
       "    <tr>\n",
       "      <th>0</th>\n",
       "      <td>http://1337x.to/torrent/1110018/Blackhat-2015-...</td>\n",
       "    </tr>\n",
       "    <tr>\n",
       "      <th>1</th>\n",
       "      <td>http://1337x.to/torrent/1122940/Blackhat-2015-...</td>\n",
       "    </tr>\n",
       "    <tr>\n",
       "      <th>2</th>\n",
       "      <td>http://1337x.to/torrent/1124395/Fast-and-Furio...</td>\n",
       "    </tr>\n",
       "    <tr>\n",
       "      <th>3</th>\n",
       "      <td>http://1337x.to/torrent/1145504/Avengers-Age-o...</td>\n",
       "    </tr>\n",
       "    <tr>\n",
       "      <th>4</th>\n",
       "      <td>http://1337x.to/torrent/1160078/Avengers-age-o...</td>\n",
       "    </tr>\n",
       "  </tbody>\n",
       "</table>\n",
       "</div>"
      ],
      "text/plain": [
       "                                                URLs\n",
       "0  http://1337x.to/torrent/1110018/Blackhat-2015-...\n",
       "1  http://1337x.to/torrent/1122940/Blackhat-2015-...\n",
       "2  http://1337x.to/torrent/1124395/Fast-and-Furio...\n",
       "3  http://1337x.to/torrent/1145504/Avengers-Age-o...\n",
       "4  http://1337x.to/torrent/1160078/Avengers-age-o..."
      ]
     },
     "execution_count": 9,
     "metadata": {},
     "output_type": "execute_result"
    }
   ],
   "source": [
    "# Loadiang the legitimate URLs data to a dataframe\n",
    "data_benign = pd.read_csv(\"benign_url.csv\")\n",
    "# The dataframe comes raw so we add an column name \n",
    "data_benign.columns = [\"URLs\"]\n",
    "# Showing the first five URLs from the dataframe by slicing the object\n",
    "data_benign.iloc[0:5]"
   ]
  },
  {
   "cell_type": "markdown",
   "metadata": {},
   "source": [
    "# 4.1 Familiarising with the dataframe  \n"
   ]
  },
  {
   "cell_type": "code",
   "execution_count": 10,
   "metadata": {},
   "outputs": [
    {
     "name": "stdout",
     "output_type": "stream",
     "text": [
      "<class 'pandas.core.frame.DataFrame'>\n",
      "RangeIndex: 35377 entries, 0 to 35376\n",
      "Data columns (total 1 columns):\n",
      "URLs    35377 non-null object\n",
      "dtypes: object(1)\n",
      "memory usage: 276.5+ KB\n"
     ]
    }
   ],
   "source": [
    "# Prints a summary of all the columns in the DataFrame\n",
    "data_benign.info()"
   ]
  },
  {
   "cell_type": "code",
   "execution_count": 15,
   "metadata": {},
   "outputs": [
    {
     "data": {
      "text/html": [
       "<div>\n",
       "<style>\n",
       "    .dataframe thead tr:only-child th {\n",
       "        text-align: right;\n",
       "    }\n",
       "\n",
       "    .dataframe thead th {\n",
       "        text-align: left;\n",
       "    }\n",
       "\n",
       "    .dataframe tbody tr th {\n",
       "        vertical-align: top;\n",
       "    }\n",
       "</style>\n",
       "<table border=\"1\" class=\"dataframe\">\n",
       "  <thead>\n",
       "    <tr style=\"text-align: right;\">\n",
       "      <th></th>\n",
       "      <th>URLs</th>\n",
       "    </tr>\n",
       "  </thead>\n",
       "  <tbody>\n",
       "    <tr>\n",
       "      <th>count</th>\n",
       "      <td>35377</td>\n",
       "    </tr>\n",
       "    <tr>\n",
       "      <th>unique</th>\n",
       "      <td>35377</td>\n",
       "    </tr>\n",
       "    <tr>\n",
       "      <th>top</th>\n",
       "      <td>http://katproxy.com/community/show/congrats-ou...</td>\n",
       "    </tr>\n",
       "    <tr>\n",
       "      <th>freq</th>\n",
       "      <td>1</td>\n",
       "    </tr>\n",
       "  </tbody>\n",
       "</table>\n",
       "</div>"
      ],
      "text/plain": [
       "                                                     URLs\n",
       "count                                               35377\n",
       "unique                                              35377\n",
       "top     http://katproxy.com/community/show/congrats-ou...\n",
       "freq                                                    1"
      ]
     },
     "execution_count": 15,
     "metadata": {},
     "output_type": "execute_result"
    }
   ],
   "source": [
    "# Describing all columns of the DataFrame regardless the data type\n",
    "data_benign.describe(include='all')"
   ]
  },
  {
   "cell_type": "code",
   "execution_count": 16,
   "metadata": {},
   "outputs": [
    {
     "data": {
      "text/plain": [
       "URLs    False\n",
       "dtype: bool"
      ]
     },
     "execution_count": 16,
     "metadata": {},
     "output_type": "execute_result"
    }
   ],
   "source": [
    "# Checking for any missing values accross columns\n",
    "data_benign.isnull().any()"
   ]
  },
  {
   "cell_type": "code",
   "execution_count": 17,
   "metadata": {},
   "outputs": [
    {
     "data": {
      "text/plain": [
       "(35377, 1)"
      ]
     },
     "execution_count": 17,
     "metadata": {},
     "output_type": "execute_result"
    }
   ],
   "source": [
    "#Returns a tuple representing the dimensionality of the DataFrame.\n",
    "data_benign.shape"
   ]
  },
  {
   "cell_type": "code",
   "execution_count": 18,
   "metadata": {
    "collapsed": true
   },
   "outputs": [],
   "source": [
    "# Extracting 7500 Benign URLs randomly from the dataframe\n",
    "# The same technique for collecting a sample of 7500 Legitimate urls is applied here\n",
    "benign_data = data_benign.sample(n = 7500, random_state = 12).copy(deep=True)\n",
    "benign_data = benign_data.reset_index(drop=True)"
   ]
  },
  {
   "cell_type": "code",
   "execution_count": 19,
   "metadata": {},
   "outputs": [
    {
     "data": {
      "text/html": [
       "<div>\n",
       "<style>\n",
       "    .dataframe thead tr:only-child th {\n",
       "        text-align: right;\n",
       "    }\n",
       "\n",
       "    .dataframe thead th {\n",
       "        text-align: left;\n",
       "    }\n",
       "\n",
       "    .dataframe tbody tr th {\n",
       "        vertical-align: top;\n",
       "    }\n",
       "</style>\n",
       "<table border=\"1\" class=\"dataframe\">\n",
       "  <thead>\n",
       "    <tr style=\"text-align: right;\">\n",
       "      <th></th>\n",
       "      <th>URLs</th>\n",
       "    </tr>\n",
       "  </thead>\n",
       "  <tbody>\n",
       "    <tr>\n",
       "      <th>7495</th>\n",
       "      <td>http://nypost.com/2015/05/01/apple-admits-tatt...</td>\n",
       "    </tr>\n",
       "    <tr>\n",
       "      <th>7496</th>\n",
       "      <td>http://icicibank.com/Personal-Banking/insuranc...</td>\n",
       "    </tr>\n",
       "    <tr>\n",
       "      <th>7497</th>\n",
       "      <td>http://thenextweb.com/socialmedia/2012/05/30/f...</td>\n",
       "    </tr>\n",
       "    <tr>\n",
       "      <th>7498</th>\n",
       "      <td>http://distractify.com/post/related/id/5553577...</td>\n",
       "    </tr>\n",
       "    <tr>\n",
       "      <th>7499</th>\n",
       "      <td>http://ringring.vn/kinh-hoang-giay-phut-vo-chu...</td>\n",
       "    </tr>\n",
       "  </tbody>\n",
       "</table>\n",
       "</div>"
      ],
      "text/plain": [
       "                                                   URLs\n",
       "7495  http://nypost.com/2015/05/01/apple-admits-tatt...\n",
       "7496  http://icicibank.com/Personal-Banking/insuranc...\n",
       "7497  http://thenextweb.com/socialmedia/2012/05/30/f...\n",
       "7498  http://distractify.com/post/related/id/5553577...\n",
       "7499  http://ringring.vn/kinh-hoang-giay-phut-vo-chu..."
      ]
     },
     "execution_count": 19,
     "metadata": {},
     "output_type": "execute_result"
    }
   ],
   "source": [
    "benign_data.tail()"
   ]
  },
  {
   "cell_type": "code",
   "execution_count": 20,
   "metadata": {},
   "outputs": [
    {
     "data": {
      "text/plain": [
       "(7500, 1)"
      ]
     },
     "execution_count": 20,
     "metadata": {},
     "output_type": "execute_result"
    }
   ],
   "source": [
    "# Returns the dataframe with removed duplicates if any\n",
    "benign_data.drop_duplicates(inplace=True)\n",
    "# Checks if the dataframe has any changes\n",
    "benign_data.shape"
   ]
  },
  {
   "cell_type": "markdown",
   "metadata": {},
   "source": [
    "# 5. Feature Extraction\n",
    "\n",
    "In this section of the notebook, we perform a feature extraction.\n",
    "The features will be split into three groups:\n",
    "\n",
    "# 1. URL-Based Features\n",
    "# 2. Page-Based Feature\n",
    "# 3. Domain-Based Feature"
   ]
  },
  {
   "cell_type": "code",
   "execution_count": 21,
   "metadata": {
    "collapsed": true
   },
   "outputs": [],
   "source": [
    "# Importing required packages for this section\n",
    "#!pip install python-whois\n",
    "from bs4 import BeautifulSoup\n",
    "from urllib.parse import urlencode,urlparse,urlsplit\n",
    "import urllib\n",
    "import urllib.request\n",
    "import requests\n",
    "import ipaddress\n",
    "#import whois\n",
    "import re"
   ]
  },
  {
   "cell_type": "markdown",
   "metadata": {},
   "source": [
    "# 5.1 URL - Based Features - functions\n",
    "\n"
   ]
  },
  {
   "cell_type": "markdown",
   "metadata": {},
   "source": [
    "#### Replace the subomain of the URL with an empty space. This feature - checks for the presence of an subdomain and if the function gets a match we replace it with an empty string"
   ]
  },
  {
   "cell_type": "code",
   "execution_count": 22,
   "metadata": {
    "collapsed": true
   },
   "outputs": [],
   "source": [
    "def remove_subDomain(url):\n",
    "    subDomain = urlparse(url).netloc\n",
    "    if re.match(r\"^www.\",subDomain):\n",
    "        subDomain = subDomain.replace(\"www.\",\"\")\n",
    "    return subDomain"
   ]
  },
  {
   "cell_type": "markdown",
   "metadata": {},
   "source": [
    "#### In this function everything that does not match the protocol will be flaged as malicious.However, most of the phishing attacks have become very sophisticated and the attackers easily manage to add Secure Sockets Layer(SSL) in order to trick users. The feature by itself would not be enough to classify if the URL is malicious or not, but combined with the rest will contribute to the object of the notebook."
   ]
  },
  {
   "cell_type": "code",
   "execution_count": 23,
   "metadata": {
    "collapsed": true
   },
   "outputs": [],
   "source": [
    "# Checks the URL's protocol in the domain \n",
    "def check_protocol(url):\n",
    "    protocol = urlparse(url)\n",
    "    if re.match(r\"^https?://\",protocol.geturl()):\n",
    "    \n",
    "        return 0\n",
    "    else:\n",
    "        return 1"
   ]
  },
  {
   "cell_type": "markdown",
   "metadata": {},
   "source": [
    "#### The function makes use of the 'ipaddress' package. The regular expression will match any IP address in the range of '00' to '333'. Therefore, the package  'ipaddress' will validate if the IP address is IPv4 or IPv6 to avoid inconveniences. A ValueError is raised if address does not represent a valid IPv4 or IPv6 address"
   ]
  },
  {
   "cell_type": "code",
   "execution_count": 24,
   "metadata": {
    "collapsed": true
   },
   "outputs": [],
   "source": [
    "#Checks for a presence of an IP address instead of a domain name\n",
    "def ip_addr(url):\n",
    "    ip = 0\n",
    "    try:\n",
    "        domain_IP = urlparse(url)\n",
    "        if re.match(r\"\\b(?:\\d{1,3}\\.){3}\\d{1,3}\\b\",domain_IP.netloc):\n",
    "            validation = ipaddress.ip_address(domain_IP.netloc)\n",
    "            ip = 1      \n",
    "    except:\n",
    "        print(f'ValueError: {domain_IP.netloc} does not appear to be an IPv4 or IPv6 address')\n",
    "    else:\n",
    "        ip = 0 \n",
    "        \n",
    "    return ip"
   ]
  },
  {
   "cell_type": "markdown",
   "metadata": {},
   "source": [
    "#### If an URL contains more than four periods in its structure, the function will flag it as malicious. "
   ]
  },
  {
   "cell_type": "code",
   "execution_count": 25,
   "metadata": {
    "collapsed": true
   },
   "outputs": [],
   "source": [
    "#Checks for the occurance of the character '.' in the URL\n",
    "def get_period(url):\n",
    "    \n",
    "    get_URL = urlparse(url)\n",
    "    \n",
    "    obj = re.findall(r\"\\.\", get_URL.geturl())\n",
    "    \n",
    "    if '.' in obj and len(obj) > 4:\n",
    "        period = 1\n",
    "    else:\n",
    "        period = 0\n",
    "        \n",
    "    return period"
   ]
  },
  {
   "cell_type": "markdown",
   "metadata": {},
   "source": [
    "#### Great average word length in the URL structure will be flaged as malicious. After parsing the url, the components are splitted into list. Using python's map function, each component is mapped to its length and devided by the length of the list, which returns the average length. If the total average of the words is greater or equal to 15 the function will flag the url as malicious"
   ]
  },
  {
   "cell_type": "code",
   "execution_count": 26,
   "metadata": {
    "collapsed": true
   },
   "outputs": [],
   "source": [
    "def average_word_len(url):\n",
    "    \n",
    "    parse_url = urlsplit(url)\n",
    "  \n",
    "    geturl = parse_url.geturl()\n",
    "  \n",
    "    split_into_list = geturl.split('/')\n",
    "    total_avg = sum( map(len, split_into_list) ) / len(split_into_list)\n",
    "    if total_avg >= 15:\n",
    "        return 1\n",
    "    else:\n",
    "        return 0"
   ]
  },
  {
   "cell_type": "markdown",
   "metadata": {},
   "source": [
    "#### After parsing an URL, one if its components is 'path'. This function will check the length of the url's path and flag it as malicious if the length is greater or equal to 30."
   ]
  },
  {
   "cell_type": "code",
   "execution_count": 27,
   "metadata": {
    "collapsed": true
   },
   "outputs": [],
   "source": [
    "#Checks for the path length of the URL\n",
    "def get_path_length(url):\n",
    "    \n",
    "    url_len = urlparse(url).path\n",
    "    \n",
    "    if len(url_len) >= 30:\n",
    "        \n",
    "        length = 1\n",
    "        \n",
    "    else:\n",
    "         length = 0\n",
    "         \n",
    "         \n",
    "    return length"
   ]
  },
  {
   "cell_type": "markdown",
   "metadata": {},
   "source": [
    "#### In a legitimate URL, the double forward slashes must occur only at position '6' if the protocol used on the webpage is 'https'. If the last occurance is not in that position, the function flags it as malicious. The reason behind is that the double slash is most likely a result of an error somewhere or a malicious act. However, some servers are setup to ignore another occurance of a double forward slash. An occurance of another double forward slash might be a case of an redirection to a malicious page."
   ]
  },
  {
   "cell_type": "code",
   "execution_count": 28,
   "metadata": {
    "collapsed": true
   },
   "outputs": [],
   "source": [
    "#Checks for the last occurance of \"double forward slashes\" in the URL\n",
    "def check_double_slash(url):\n",
    "    \n",
    "    double_slash = url.rfind('//')\n",
    "    \n",
    "    if double_slash != 6:\n",
    "        \n",
    "        return 1\n",
    "        \n",
    "    else:\n",
    "        return 0\n",
    "    "
   ]
  },
  {
   "cell_type": "markdown",
   "metadata": {},
   "source": [
    "#### Using “@” symbol in the URL leads the browser to ignore everything preceding the “@” symbol  and the real address often follows the “@” symbol."
   ]
  },
  {
   "cell_type": "code",
   "execution_count": 29,
   "metadata": {
    "collapsed": true
   },
   "outputs": [],
   "source": [
    "# Counts the Ats in an url, if they are any present the function returns 1 otherwise 0 \n",
    "def containsAt(url):\n",
    "    count = url.count('@')\n",
    "    if count >= 1:\n",
    "        return 1\n",
    "    else:\n",
    "        return 0"
   ]
  },
  {
   "cell_type": "markdown",
   "metadata": {},
   "source": [
    "#### Additional functions for feature extraction. In the notebook we want to extract as much as we can from the URLs so the model can learn and perform better."
   ]
  },
  {
   "cell_type": "code",
   "execution_count": 30,
   "metadata": {
    "collapsed": true
   },
   "outputs": [],
   "source": [
    "def sub_dir(url):\n",
    "    return url.count('/')"
   ]
  },
  {
   "cell_type": "code",
   "execution_count": 31,
   "metadata": {
    "collapsed": true
   },
   "outputs": [],
   "source": [
    "def containsHyphen(url):\n",
    "    return url.count('-')"
   ]
  },
  {
   "cell_type": "code",
   "execution_count": 32,
   "metadata": {
    "collapsed": true
   },
   "outputs": [],
   "source": [
    "def countQueries(url):\n",
    "    return url.count('&')"
   ]
  },
  {
   "cell_type": "markdown",
   "metadata": {},
   "source": [
    "# 5.3 Page-Based Feature\n",
    "\n",
    "#### This feature uses Alexa rank - web traffic analyzer. Alexa rank will return a Global Rank of the website and information about the page. Based on the information provided, the function decides if the URL is malicious or not. The function uses the BeautifulSoup package in order to perform a web scraping over the web page.\n",
    "\n",
    "### DISCLAIMER  \n",
    "\n",
    "#### The feature would not make into the final notebook because amazon alexa rank API is not a free feature and it is payed per request. The function has been tested and the returns the expected value, however after trying to apply the function on a dataset, due to the high amount of requests - alexa rank blocked my IP.   "
   ]
  },
  {
   "cell_type": "code",
   "execution_count": 161,
   "metadata": {
    "collapsed": true
   },
   "outputs": [],
   "source": [
    "    #Access alexa rank and retrieve the ranking of the URL\n",
    "\n",
    "def alexa_rank(url):\n",
    "    \n",
    "    try:\n",
    "        url = urllib.parse.quote(url)\n",
    "        rank_str = BeautifulSoup(urllib.request.urlopen(\"https://www.alexa.com/minisiteinfo/\"+url).read(),\n",
    "                                'lxml').table.a.get_text()\n",
    "        rank_int = int(rank_str.replace(',',''))\n",
    "        \n",
    "    except Exception as e:\n",
    "        print(f'No information for {url}: No data available')\n",
    "        return 1 \n",
    "    \n",
    "    if rank_int >= 1000000:\n",
    "        return 1\n",
    "    else:\n",
    "        return 0\n"
   ]
  },
  {
   "cell_type": "markdown",
   "metadata": {},
   "source": [
    "# 5.4 Domain-Based Feature\n",
    "\n",
    "#### The function checks for the DNS records of the URL by using the 'whois' python package.  The purpose of the feature is to perform a whois lookup to check if the server host of the webpage is valid. In case of no information about the server host, creation_date, etc. the URL will be flaged as malicious.\n",
    "\n",
    "## Disclaimer \n",
    "\n",
    "#### Unfortunately, the function does not work as expected with this particular dataset. The infromation retrieved by the function causes inconveniences once applied on the dataframe. However, the feature would be a great fit to the notebook which aim is phishing url detection. Therefore, the function will remain in the final notebook even though it will not be applied on the dataset."
   ]
  },
  {
   "cell_type": "code",
   "execution_count": 162,
   "metadata": {
    "collapsed": true
   },
   "outputs": [],
   "source": [
    "# Perform a DNS lookup on the IP address\n",
    "def is_valid(url):\n",
    "    try:\n",
    "        whois_info = whois.whois(url)\n",
    "        print(f'Domain registrar for:{url}',whois_info.registrar, whois_info.whois_server,\n",
    "              whois_info.creation_date,\n",
    "              whois_info.expiration_date)\n",
    "        if whois_info.registrar == None or whois_info.whois_server == None or whois_info.creation_date == None or whois_info.expiration_date == None:\n",
    "            return 1 \n",
    "        else:\n",
    "            return 0\n",
    "    \n",
    "    except Exception as e:\n",
    "        return 1"
   ]
  },
  {
   "cell_type": "markdown",
   "metadata": {},
   "source": [
    "# End of Custom Feature Extraction. \n",
    "\n",
    "## In total 13 features have been extracted, but only 11 of them will be applied on the dataset due to the reasons mentioned above. \n",
    "\n",
    "## The 'Page - Based  and Domain - Based' feature will remain in this notebook, unused. However, their implementation might be developed  and applied in the future."
   ]
  },
  {
   "cell_type": "markdown",
   "metadata": {},
   "source": [
    "# 6. Feature extraction "
   ]
  },
  {
   "cell_type": "markdown",
   "metadata": {},
   "source": [
    "### 6.1 Applying the custom features on a copy of the legitimate URLs.\n",
    "### Creating a new dataframe will save some inconveniences later on in the notebook."
   ]
  },
  {
   "cell_type": "code",
   "execution_count": 33,
   "metadata": {
    "collapsed": true
   },
   "outputs": [],
   "source": [
    "# Make a copy of this object’s indices and data.\n",
    "# Any modifications to the new data or indices will not be reflected in the original data\n",
    "legitimate = pd.DataFrame(benign_data).copy(deep=True)"
   ]
  },
  {
   "cell_type": "code",
   "execution_count": 34,
   "metadata": {},
   "outputs": [
    {
     "data": {
      "text/html": [
       "<div>\n",
       "<style>\n",
       "    .dataframe thead tr:only-child th {\n",
       "        text-align: right;\n",
       "    }\n",
       "\n",
       "    .dataframe thead th {\n",
       "        text-align: left;\n",
       "    }\n",
       "\n",
       "    .dataframe tbody tr th {\n",
       "        vertical-align: top;\n",
       "    }\n",
       "</style>\n",
       "<table border=\"1\" class=\"dataframe\">\n",
       "  <thead>\n",
       "    <tr style=\"text-align: right;\">\n",
       "      <th></th>\n",
       "      <th>URLs</th>\n",
       "    </tr>\n",
       "  </thead>\n",
       "  <tbody>\n",
       "    <tr>\n",
       "      <th>0</th>\n",
       "      <td>http://graphicriver.net/search?date=this-month...</td>\n",
       "    </tr>\n",
       "    <tr>\n",
       "      <th>1</th>\n",
       "      <td>http://ecnavi.jp/redirect/?url=http://www.cros...</td>\n",
       "    </tr>\n",
       "    <tr>\n",
       "      <th>2</th>\n",
       "      <td>https://hubpages.com/signin?explain=follow+Hub...</td>\n",
       "    </tr>\n",
       "    <tr>\n",
       "      <th>3</th>\n",
       "      <td>http://extratorrent.cc/torrent/4190536/AOMEI+B...</td>\n",
       "    </tr>\n",
       "    <tr>\n",
       "      <th>4</th>\n",
       "      <td>http://icicibank.com/Personal-Banking/offers/o...</td>\n",
       "    </tr>\n",
       "  </tbody>\n",
       "</table>\n",
       "</div>"
      ],
      "text/plain": [
       "                                                URLs\n",
       "0  http://graphicriver.net/search?date=this-month...\n",
       "1  http://ecnavi.jp/redirect/?url=http://www.cros...\n",
       "2  https://hubpages.com/signin?explain=follow+Hub...\n",
       "3  http://extratorrent.cc/torrent/4190536/AOMEI+B...\n",
       "4  http://icicibank.com/Personal-Banking/offers/o..."
      ]
     },
     "execution_count": 34,
     "metadata": {},
     "output_type": "execute_result"
    }
   ],
   "source": [
    "# Checking if the copy of the data was coppied correctly\n",
    "legitimate.head()"
   ]
  },
  {
   "cell_type": "markdown",
   "metadata": {},
   "source": [
    "### Applying the functions on the DataFrame  \n",
    "### The returned values from the functions will be saved in newly created columns in the dataframe"
   ]
  },
  {
   "cell_type": "code",
   "execution_count": 36,
   "metadata": {},
   "outputs": [],
   "source": [
    "def benign_feature_extraction():\n",
    "    \n",
    "    legitimate['domain'] = legitimate[\"URLs\"].apply(remove_subDomain)\n",
    "    legitimate['protocol'] = legitimate[\"URLs\"].apply(check_protocol)\n",
    "    legitimate['ip_addr'] = legitimate[\"URLs\"].apply(ip_addr)\n",
    "    legitimate['get_period'] = legitimate[\"URLs\"].apply(get_period)\n",
    "    legitimate['average_word_len'] = legitimate[\"URLs\"].apply(average_word_len)\n",
    "    legitimate['path_length'] = legitimate[\"URLs\"].apply(get_path_length)\n",
    "    legitimate['check_double_slash'] = legitimate[\"URLs\"].apply(check_double_slash)\n",
    "    legitimate['containsAt'] = legitimate[\"URLs\"].apply(containsAt)\n",
    "    legitimate['sub_dir'] = legitimate[\"URLs\"].apply(sub_dir)\n",
    "    legitimate['containsHyphen'] = legitimate[\"URLs\"].apply(containsHyphen)\n",
    "    legitimate['countQueries'] = legitimate[\"URLs\"].apply(countQueries)\n",
    "    legitimate['Label'] = 0\n",
    "    \n",
    "benign_feature_extraction()"
   ]
  },
  {
   "cell_type": "markdown",
   "metadata": {},
   "source": [
    "# 6.1.1 Data analyzing "
   ]
  },
  {
   "cell_type": "markdown",
   "metadata": {},
   "source": [
    "#### The functions have been applied on the dataset \n",
    "#### Next step is to familiarize ourselves with the new DataFrame"
   ]
  },
  {
   "cell_type": "code",
   "execution_count": 37,
   "metadata": {},
   "outputs": [
    {
     "name": "stdout",
     "output_type": "stream",
     "text": [
      "----------------------------------------\n",
      "    |                             |\n",
      "    | DataFrame : Legitimate URLs |\n",
      "    |                             |\n",
      "----------------------------------------\n",
      "\n",
      "Columns in the DataFrame:\n",
      "\n",
      "['URLs' 'domain' 'protocol' 'ip_addr' 'get_period' 'average_word_len'\n",
      " 'path_length' 'check_double_slash' 'containsAt' 'sub_dir' 'containsHyphen'\n",
      " 'countQueries' 'Label'] \n",
      "\n",
      "-----------------------------------------\n",
      "\n",
      "Summary of all the columns:\n",
      "\n",
      "<class 'pandas.core.frame.DataFrame'>\n",
      "Int64Index: 7500 entries, 0 to 7499\n",
      "Data columns (total 13 columns):\n",
      "URLs                  7500 non-null object\n",
      "domain                7500 non-null object\n",
      "protocol              7500 non-null int64\n",
      "ip_addr               7500 non-null int64\n",
      "get_period            7500 non-null int64\n",
      "average_word_len      7500 non-null int64\n",
      "path_length           7500 non-null int64\n",
      "check_double_slash    7500 non-null int64\n",
      "containsAt            7500 non-null int64\n",
      "sub_dir               7500 non-null int64\n",
      "containsHyphen        7500 non-null int64\n",
      "countQueries          7500 non-null int64\n",
      "Label                 7500 non-null int64\n",
      "dtypes: int64(11), object(2)\n",
      "memory usage: 820.3+ KB\n",
      "None \n",
      "\n",
      "-----------------------------------------\n",
      "\n",
      "Summary of the first 5 objects from the DataFrame\n",
      "\n",
      "                                                URLs            domain  \\\n",
      "0  http://graphicriver.net/search?date=this-month...  graphicriver.net   \n",
      "1  http://ecnavi.jp/redirect/?url=http://www.cros...         ecnavi.jp   \n",
      "2  https://hubpages.com/signin?explain=follow+Hub...      hubpages.com   \n",
      "3  http://extratorrent.cc/torrent/4190536/AOMEI+B...   extratorrent.cc   \n",
      "4  http://icicibank.com/Personal-Banking/offers/o...     icicibank.com   \n",
      "\n",
      "   protocol  ip_addr  get_period  average_word_len  path_length  \\\n",
      "0         0        0           0                 1            0   \n",
      "1         0        0           0                 0            0   \n",
      "2         0        0           0                 1            0   \n",
      "3         0        0           0                 1            1   \n",
      "4         0        0           0                 1            1   \n",
      "\n",
      "   check_double_slash  containsAt  sub_dir  containsHyphen  countQueries  \\\n",
      "0                   1           0        3               1             9   \n",
      "1                   1           0        7               1             2   \n",
      "2                   0           0        3               3             1   \n",
      "3                   1           0        5               0             0   \n",
      "4                   1           0        5               6             0   \n",
      "\n",
      "   Label  \n",
      "0      0  \n",
      "1      0  \n",
      "2      0  \n",
      "3      0  \n",
      "4      0   \n",
      "\n",
      "-----------------------------------------\n",
      "\n",
      "Detect missing values in the DataFrame:\n",
      "\n",
      "URLs                  0\n",
      "domain                0\n",
      "protocol              0\n",
      "ip_addr               0\n",
      "get_period            0\n",
      "average_word_len      0\n",
      "path_length           0\n",
      "check_double_slash    0\n",
      "containsAt            0\n",
      "sub_dir               0\n",
      "containsHyphen        0\n",
      "countQueries          0\n",
      "Label                 0\n",
      "dtype: int64 \n",
      "\n",
      "-----------------------------------------\n",
      "\n",
      "Shape of the DataFrame:\n",
      "\n",
      "(7500, 13)\n",
      "-----------------------------------------\n"
     ]
    }
   ],
   "source": [
    "# Function to analyze the data and return a report \n",
    "\n",
    "def print_report():\n",
    "    print('----------------------------------------')\n",
    "    print('    |                             |')\n",
    "    print('    | DataFrame : Legitimate URLs |')\n",
    "    print('    |                             |')\n",
    "    print('----------------------------------------\\n')\n",
    "    print('Columns in the DataFrame:\\n')\n",
    "    print(legitimate.columns.values,'\\n')\n",
    "    print('-----------------------------------------\\n')\n",
    "    print('Summary of all the columns:\\n')\n",
    "    print(legitimate.info(),'\\n')\n",
    "    print('-----------------------------------------\\n')\n",
    "    print('Summary of the first 5 objects from the DataFrame\\n')\n",
    "    print(legitimate.iloc[0:5],'\\n')\n",
    "    print('-----------------------------------------\\n')\n",
    "    print('Detect missing values in the DataFrame:\\n')\n",
    "    print(legitimate.isnull().sum(),'\\n')\n",
    "    print('-----------------------------------------\\n')\n",
    "    print('Shape of the DataFrame:\\n')\n",
    "    print(legitimate.shape)\n",
    "    print('-----------------------------------------')\n",
    "print_report()"
   ]
  },
  {
   "cell_type": "code",
   "execution_count": 38,
   "metadata": {},
   "outputs": [
    {
     "data": {
      "text/html": [
       "<div>\n",
       "<style>\n",
       "    .dataframe thead tr:only-child th {\n",
       "        text-align: right;\n",
       "    }\n",
       "\n",
       "    .dataframe thead th {\n",
       "        text-align: left;\n",
       "    }\n",
       "\n",
       "    .dataframe tbody tr th {\n",
       "        vertical-align: top;\n",
       "    }\n",
       "</style>\n",
       "<table border=\"1\" class=\"dataframe\">\n",
       "  <thead>\n",
       "    <tr style=\"text-align: right;\">\n",
       "      <th></th>\n",
       "      <th>URLs</th>\n",
       "      <th>domain</th>\n",
       "      <th>protocol</th>\n",
       "      <th>ip_addr</th>\n",
       "      <th>get_period</th>\n",
       "      <th>average_word_len</th>\n",
       "      <th>path_length</th>\n",
       "      <th>check_double_slash</th>\n",
       "      <th>containsAt</th>\n",
       "      <th>sub_dir</th>\n",
       "      <th>containsHyphen</th>\n",
       "      <th>countQueries</th>\n",
       "      <th>Label</th>\n",
       "    </tr>\n",
       "  </thead>\n",
       "  <tbody>\n",
       "    <tr>\n",
       "      <th>0</th>\n",
       "      <td>http://graphicriver.net/search?date=this-month...</td>\n",
       "      <td>graphicriver.net</td>\n",
       "      <td>0</td>\n",
       "      <td>0</td>\n",
       "      <td>0</td>\n",
       "      <td>1</td>\n",
       "      <td>0</td>\n",
       "      <td>1</td>\n",
       "      <td>0</td>\n",
       "      <td>3</td>\n",
       "      <td>1</td>\n",
       "      <td>9</td>\n",
       "      <td>0</td>\n",
       "    </tr>\n",
       "    <tr>\n",
       "      <th>1</th>\n",
       "      <td>http://ecnavi.jp/redirect/?url=http://www.cros...</td>\n",
       "      <td>ecnavi.jp</td>\n",
       "      <td>0</td>\n",
       "      <td>0</td>\n",
       "      <td>0</td>\n",
       "      <td>0</td>\n",
       "      <td>0</td>\n",
       "      <td>1</td>\n",
       "      <td>0</td>\n",
       "      <td>7</td>\n",
       "      <td>1</td>\n",
       "      <td>2</td>\n",
       "      <td>0</td>\n",
       "    </tr>\n",
       "    <tr>\n",
       "      <th>2</th>\n",
       "      <td>https://hubpages.com/signin?explain=follow+Hub...</td>\n",
       "      <td>hubpages.com</td>\n",
       "      <td>0</td>\n",
       "      <td>0</td>\n",
       "      <td>0</td>\n",
       "      <td>1</td>\n",
       "      <td>0</td>\n",
       "      <td>0</td>\n",
       "      <td>0</td>\n",
       "      <td>3</td>\n",
       "      <td>3</td>\n",
       "      <td>1</td>\n",
       "      <td>0</td>\n",
       "    </tr>\n",
       "    <tr>\n",
       "      <th>3</th>\n",
       "      <td>http://extratorrent.cc/torrent/4190536/AOMEI+B...</td>\n",
       "      <td>extratorrent.cc</td>\n",
       "      <td>0</td>\n",
       "      <td>0</td>\n",
       "      <td>0</td>\n",
       "      <td>1</td>\n",
       "      <td>1</td>\n",
       "      <td>1</td>\n",
       "      <td>0</td>\n",
       "      <td>5</td>\n",
       "      <td>0</td>\n",
       "      <td>0</td>\n",
       "      <td>0</td>\n",
       "    </tr>\n",
       "    <tr>\n",
       "      <th>4</th>\n",
       "      <td>http://icicibank.com/Personal-Banking/offers/o...</td>\n",
       "      <td>icicibank.com</td>\n",
       "      <td>0</td>\n",
       "      <td>0</td>\n",
       "      <td>0</td>\n",
       "      <td>1</td>\n",
       "      <td>1</td>\n",
       "      <td>1</td>\n",
       "      <td>0</td>\n",
       "      <td>5</td>\n",
       "      <td>6</td>\n",
       "      <td>0</td>\n",
       "      <td>0</td>\n",
       "    </tr>\n",
       "  </tbody>\n",
       "</table>\n",
       "</div>"
      ],
      "text/plain": [
       "                                                URLs            domain  \\\n",
       "0  http://graphicriver.net/search?date=this-month...  graphicriver.net   \n",
       "1  http://ecnavi.jp/redirect/?url=http://www.cros...         ecnavi.jp   \n",
       "2  https://hubpages.com/signin?explain=follow+Hub...      hubpages.com   \n",
       "3  http://extratorrent.cc/torrent/4190536/AOMEI+B...   extratorrent.cc   \n",
       "4  http://icicibank.com/Personal-Banking/offers/o...     icicibank.com   \n",
       "\n",
       "   protocol  ip_addr  get_period  average_word_len  path_length  \\\n",
       "0         0        0           0                 1            0   \n",
       "1         0        0           0                 0            0   \n",
       "2         0        0           0                 1            0   \n",
       "3         0        0           0                 1            1   \n",
       "4         0        0           0                 1            1   \n",
       "\n",
       "   check_double_slash  containsAt  sub_dir  containsHyphen  countQueries  \\\n",
       "0                   1           0        3               1             9   \n",
       "1                   1           0        7               1             2   \n",
       "2                   0           0        3               3             1   \n",
       "3                   1           0        5               0             0   \n",
       "4                   1           0        5               6             0   \n",
       "\n",
       "   Label  \n",
       "0      0  \n",
       "1      0  \n",
       "2      0  \n",
       "3      0  \n",
       "4      0  "
      ]
     },
     "execution_count": 38,
     "metadata": {},
     "output_type": "execute_result"
    }
   ],
   "source": [
    "# By default the first 5 rows for the object are returned. \n",
    "# Quick double-checking if our objects have the right type of data.\n",
    "legitimate.head()"
   ]
  },
  {
   "cell_type": "markdown",
   "metadata": {},
   "source": [
    "## A new dataset has been created and populated by the custom functions with new values. The new DataFrame will be saved on a new csv file"
   ]
  },
  {
   "cell_type": "code",
   "execution_count": 39,
   "metadata": {
    "collapsed": true
   },
   "outputs": [],
   "source": [
    "legitimate.to_csv('legitimate_urls.csv', index=False)"
   ]
  },
  {
   "cell_type": "markdown",
   "metadata": {},
   "source": [
    "# 6.2 Applying the custom features on a copy of the phishing URLs."
   ]
  },
  {
   "cell_type": "code",
   "execution_count": 54,
   "metadata": {
    "collapsed": true
   },
   "outputs": [],
   "source": [
    "# Make a copy of this object’s indices and data into our new DataFrame\n",
    "malicious = pd.DataFrame(phishing_data[\"url\"]).copy(deep=True)"
   ]
  },
  {
   "cell_type": "code",
   "execution_count": 55,
   "metadata": {},
   "outputs": [
    {
     "data": {
      "text/html": [
       "<div>\n",
       "<style>\n",
       "    .dataframe thead tr:only-child th {\n",
       "        text-align: right;\n",
       "    }\n",
       "\n",
       "    .dataframe thead th {\n",
       "        text-align: left;\n",
       "    }\n",
       "\n",
       "    .dataframe tbody tr th {\n",
       "        vertical-align: top;\n",
       "    }\n",
       "</style>\n",
       "<table border=\"1\" class=\"dataframe\">\n",
       "  <thead>\n",
       "    <tr style=\"text-align: right;\">\n",
       "      <th></th>\n",
       "      <th>url</th>\n",
       "    </tr>\n",
       "  </thead>\n",
       "  <tbody>\n",
       "    <tr>\n",
       "      <th>0</th>\n",
       "      <td>https://sekabetgiriskayit.blogspot.com/</td>\n",
       "    </tr>\n",
       "    <tr>\n",
       "      <th>1</th>\n",
       "      <td>http://www.kidscoloringpdf.com/wp-content/xxx/...</td>\n",
       "    </tr>\n",
       "    <tr>\n",
       "      <th>2</th>\n",
       "      <td>http://kashmir-packages.com/.well-known/wp/log...</td>\n",
       "    </tr>\n",
       "    <tr>\n",
       "      <th>3</th>\n",
       "      <td>http://newsimdigital.com/doc</td>\n",
       "    </tr>\n",
       "    <tr>\n",
       "      <th>4</th>\n",
       "      <td>https://secure07c-secure-user-verification.ser...</td>\n",
       "    </tr>\n",
       "  </tbody>\n",
       "</table>\n",
       "</div>"
      ],
      "text/plain": [
       "                                                 url\n",
       "0            https://sekabetgiriskayit.blogspot.com/\n",
       "1  http://www.kidscoloringpdf.com/wp-content/xxx/...\n",
       "2  http://kashmir-packages.com/.well-known/wp/log...\n",
       "3                       http://newsimdigital.com/doc\n",
       "4  https://secure07c-secure-user-verification.ser..."
      ]
     },
     "execution_count": 55,
     "metadata": {},
     "output_type": "execute_result"
    }
   ],
   "source": [
    "malicious.head()"
   ]
  },
  {
   "cell_type": "markdown",
   "metadata": {},
   "source": [
    "### To avoid inconveniences in the future, the column name will be changed.So that both names of the DataFrame's  columns will match."
   ]
  },
  {
   "cell_type": "code",
   "execution_count": 56,
   "metadata": {
    "collapsed": true
   },
   "outputs": [],
   "source": [
    "# Change the name of the required column and apply it to the actual dataframe\n",
    "# if inplace is set to False, the method will return a copy\n",
    "malicious.rename(columns = {\"url\":\"URLs\"}, inplace = True)\n"
   ]
  },
  {
   "cell_type": "code",
   "execution_count": 57,
   "metadata": {},
   "outputs": [
    {
     "data": {
      "text/html": [
       "<div>\n",
       "<style>\n",
       "    .dataframe thead tr:only-child th {\n",
       "        text-align: right;\n",
       "    }\n",
       "\n",
       "    .dataframe thead th {\n",
       "        text-align: left;\n",
       "    }\n",
       "\n",
       "    .dataframe tbody tr th {\n",
       "        vertical-align: top;\n",
       "    }\n",
       "</style>\n",
       "<table border=\"1\" class=\"dataframe\">\n",
       "  <thead>\n",
       "    <tr style=\"text-align: right;\">\n",
       "      <th></th>\n",
       "      <th>URLs</th>\n",
       "    </tr>\n",
       "  </thead>\n",
       "  <tbody>\n",
       "    <tr>\n",
       "      <th>0</th>\n",
       "      <td>https://sekabetgiriskayit.blogspot.com/</td>\n",
       "    </tr>\n",
       "    <tr>\n",
       "      <th>1</th>\n",
       "      <td>http://www.kidscoloringpdf.com/wp-content/xxx/...</td>\n",
       "    </tr>\n",
       "    <tr>\n",
       "      <th>2</th>\n",
       "      <td>http://kashmir-packages.com/.well-known/wp/log...</td>\n",
       "    </tr>\n",
       "    <tr>\n",
       "      <th>3</th>\n",
       "      <td>http://newsimdigital.com/doc</td>\n",
       "    </tr>\n",
       "    <tr>\n",
       "      <th>4</th>\n",
       "      <td>https://secure07c-secure-user-verification.ser...</td>\n",
       "    </tr>\n",
       "  </tbody>\n",
       "</table>\n",
       "</div>"
      ],
      "text/plain": [
       "                                                URLs\n",
       "0            https://sekabetgiriskayit.blogspot.com/\n",
       "1  http://www.kidscoloringpdf.com/wp-content/xxx/...\n",
       "2  http://kashmir-packages.com/.well-known/wp/log...\n",
       "3                       http://newsimdigital.com/doc\n",
       "4  https://secure07c-secure-user-verification.ser..."
      ]
     },
     "execution_count": 57,
     "metadata": {},
     "output_type": "execute_result"
    }
   ],
   "source": [
    "# Double-checking if the new DataFrame is loaded correctly with the new column name\n",
    "malicious.head()"
   ]
  },
  {
   "cell_type": "markdown",
   "metadata": {},
   "source": [
    "### Applying the functions on the DataFrame  \n",
    "### The same technique used above for the \"legitimate\" DataFrame will be applied here as well. "
   ]
  },
  {
   "cell_type": "code",
   "execution_count": 59,
   "metadata": {},
   "outputs": [
    {
     "name": "stdout",
     "output_type": "stream",
     "text": [
      "ValueError: 154.30.211.130.bc.googleusercontent.com does not appear to be an IPv4 or IPv6 address\n",
      "ValueError: 51.255.68.3:8011 does not appear to be an IPv4 or IPv6 address\n"
     ]
    }
   ],
   "source": [
    "def malicious_feature_extraction():\n",
    "    \n",
    "    malicious['domain'] = malicious[\"URLs\"].apply(remove_subDomain)\n",
    "    malicious['protocol'] = malicious[\"URLs\"].apply(check_protocol)\n",
    "    malicious['ip_addr'] = malicious[\"URLs\"].apply(ip_addr)\n",
    "    malicious['get_period'] = malicious[\"URLs\"].apply(get_period)\n",
    "    malicious['average_word_len'] = malicious[\"URLs\"].apply(average_word_len)\n",
    "    malicious['path_length'] = malicious[\"URLs\"].apply(get_path_length)\n",
    "    malicious['check_double_slash'] = malicious[\"URLs\"].apply(check_double_slash)\n",
    "    malicious['containsAt'] = malicious[\"URLs\"].apply(containsAt)\n",
    "    malicious['sub_dir'] = malicious[\"URLs\"].apply(sub_dir)\n",
    "    malicious['containsHyphen'] = malicious[\"URLs\"].apply(containsHyphen)\n",
    "    malicious['countQueries'] = malicious[\"URLs\"].apply(countQueries)\n",
    "    malicious['Label'] = 1\n",
    "    \n",
    "malicious_feature_extraction()"
   ]
  },
  {
   "cell_type": "markdown",
   "metadata": {},
   "source": [
    "#### The ValueErrors above are handled by the function's except statement. "
   ]
  },
  {
   "cell_type": "markdown",
   "metadata": {},
   "source": [
    "# 6.2.1 Data analyzing "
   ]
  },
  {
   "cell_type": "markdown",
   "metadata": {},
   "source": [
    "#### The functions have been applied on the DataFrame\n",
    "#### Next step is to familiarize ourselves with the new data"
   ]
  },
  {
   "cell_type": "code",
   "execution_count": 52,
   "metadata": {},
   "outputs": [
    {
     "name": "stdout",
     "output_type": "stream",
     "text": [
      "----------------------------------------\n",
      "    |                             |\n",
      "    | DataFrame : Malicious URLs  |\n",
      "    |                             |\n",
      "----------------------------------------\n",
      "\n",
      "Columns in the DataFrame:\n",
      "\n",
      "['URLs' 'domain' 'protocol' 'ip_addr' 'get_period' 'average_word_len'\n",
      " 'path_length' 'check_double_slash' 'containsAt' 'countSubDir'\n",
      " 'isPresentHyphen' 'countQueries' 'Label' 'sub_dir' 'containsHyphen'] \n",
      "\n",
      "-----------------------------------------\n",
      "\n",
      "Summary of all the columns:\n",
      "\n",
      "<class 'pandas.core.frame.DataFrame'>\n",
      "Int64Index: 7500 entries, 0 to 7499\n",
      "Data columns (total 15 columns):\n",
      "URLs                  7500 non-null object\n",
      "domain                7500 non-null object\n",
      "protocol              7500 non-null int64\n",
      "ip_addr               7500 non-null int64\n",
      "get_period            7500 non-null int64\n",
      "average_word_len      7500 non-null int64\n",
      "path_length           7500 non-null int64\n",
      "check_double_slash    7500 non-null int64\n",
      "containsAt            7500 non-null int64\n",
      "countSubDir           7500 non-null int64\n",
      "isPresentHyphen       7500 non-null int64\n",
      "countQueries          7500 non-null int64\n",
      "Label                 7500 non-null int64\n",
      "sub_dir               7500 non-null int64\n",
      "containsHyphen        7500 non-null int64\n",
      "dtypes: int64(13), object(2)\n",
      "memory usage: 937.5+ KB\n",
      "None \n",
      "\n",
      "-----------------------------------------\n",
      "\n",
      "Summary of the first 5 objects from the DataFrame\n",
      "\n",
      "                                                URLs  \\\n",
      "0            https://sekabetgiriskayit.blogspot.com/   \n",
      "1  http://www.kidscoloringpdf.com/wp-content/xxx/...   \n",
      "2  http://kashmir-packages.com/.well-known/wp/log...   \n",
      "3                       http://newsimdigital.com/doc   \n",
      "4  https://secure07c-secure-user-verification.ser...   \n",
      "\n",
      "                                             domain  protocol  ip_addr  \\\n",
      "0                    sekabetgiriskayit.blogspot.com         0        0   \n",
      "1                               kidscoloringpdf.com         0        0   \n",
      "2                              kashmir-packages.com         0        0   \n",
      "3                                 newsimdigital.com         0        0   \n",
      "4  secure07c-secure-user-verification.serveuser.com         0        0   \n",
      "\n",
      "   get_period  average_word_len  path_length  check_double_slash  containsAt  \\\n",
      "0           0                 0            0                   0           0   \n",
      "1           0                 0            1                   1           0   \n",
      "2           0                 1            0                   1           0   \n",
      "3           0                 0            0                   1           0   \n",
      "4           0                 0            0                   0           0   \n",
      "\n",
      "   countSubDir  isPresentHyphen  countQueries  Label  sub_dir  containsHyphen  \n",
      "0            3                0             0      1        3               0  \n",
      "1            8                1             0      1        8               1  \n",
      "2            5                2             2      1        5               2  \n",
      "3            3                0             0      1        3               0  \n",
      "4            5                3             0      1        5               3   \n",
      "\n",
      "-----------------------------------------\n",
      "\n",
      "Detect missing values in the DataFrame:\n",
      "\n",
      "URLs                  0\n",
      "domain                0\n",
      "protocol              0\n",
      "ip_addr               0\n",
      "get_period            0\n",
      "average_word_len      0\n",
      "path_length           0\n",
      "check_double_slash    0\n",
      "containsAt            0\n",
      "countSubDir           0\n",
      "isPresentHyphen       0\n",
      "countQueries          0\n",
      "Label                 0\n",
      "sub_dir               0\n",
      "containsHyphen        0\n",
      "dtype: int64 \n",
      "\n",
      "-----------------------------------------\n",
      "\n",
      "Shape of the DataFrame:\n",
      "\n",
      "(7500, 15)\n",
      "-----------------------------------------\n"
     ]
    }
   ],
   "source": [
    "# Function to analyze the data and return a report \n",
    "\n",
    "def print_report():\n",
    "    print('----------------------------------------')\n",
    "    print('    |                             |')\n",
    "    print('    | DataFrame : Malicious URLs  |')\n",
    "    print('    |                             |')\n",
    "    print('----------------------------------------\\n')\n",
    "    print('Columns in the DataFrame:\\n')\n",
    "    print(malicious.columns.values,'\\n')\n",
    "    print('-----------------------------------------\\n')\n",
    "    print('Summary of all the columns:\\n')\n",
    "    print(malicious.info(),'\\n')\n",
    "    print('-----------------------------------------\\n')\n",
    "    print('Summary of the first 5 objects from the DataFrame\\n')\n",
    "    print(malicious.iloc[0:5],'\\n')\n",
    "    print('-----------------------------------------\\n')\n",
    "    print('Detect missing values in the DataFrame:\\n')\n",
    "    print(malicious.isnull().sum(),'\\n')\n",
    "    print('-----------------------------------------\\n')\n",
    "    print('Shape of the DataFrame:\\n')\n",
    "    print(malicious.shape)\n",
    "    print('-----------------------------------------')\n",
    "print_report()"
   ]
  },
  {
   "cell_type": "code",
   "execution_count": 60,
   "metadata": {},
   "outputs": [
    {
     "data": {
      "text/html": [
       "<div>\n",
       "<style>\n",
       "    .dataframe thead tr:only-child th {\n",
       "        text-align: right;\n",
       "    }\n",
       "\n",
       "    .dataframe thead th {\n",
       "        text-align: left;\n",
       "    }\n",
       "\n",
       "    .dataframe tbody tr th {\n",
       "        vertical-align: top;\n",
       "    }\n",
       "</style>\n",
       "<table border=\"1\" class=\"dataframe\">\n",
       "  <thead>\n",
       "    <tr style=\"text-align: right;\">\n",
       "      <th></th>\n",
       "      <th>URLs</th>\n",
       "      <th>domain</th>\n",
       "      <th>protocol</th>\n",
       "      <th>ip_addr</th>\n",
       "      <th>get_period</th>\n",
       "      <th>average_word_len</th>\n",
       "      <th>path_length</th>\n",
       "      <th>check_double_slash</th>\n",
       "      <th>containsAt</th>\n",
       "      <th>sub_dir</th>\n",
       "      <th>containsHyphen</th>\n",
       "      <th>countQueries</th>\n",
       "      <th>Label</th>\n",
       "    </tr>\n",
       "  </thead>\n",
       "  <tbody>\n",
       "    <tr>\n",
       "      <th>0</th>\n",
       "      <td>https://sekabetgiriskayit.blogspot.com/</td>\n",
       "      <td>sekabetgiriskayit.blogspot.com</td>\n",
       "      <td>0</td>\n",
       "      <td>0</td>\n",
       "      <td>0</td>\n",
       "      <td>0</td>\n",
       "      <td>0</td>\n",
       "      <td>0</td>\n",
       "      <td>0</td>\n",
       "      <td>3</td>\n",
       "      <td>0</td>\n",
       "      <td>0</td>\n",
       "      <td>1</td>\n",
       "    </tr>\n",
       "    <tr>\n",
       "      <th>1</th>\n",
       "      <td>http://www.kidscoloringpdf.com/wp-content/xxx/...</td>\n",
       "      <td>kidscoloringpdf.com</td>\n",
       "      <td>0</td>\n",
       "      <td>0</td>\n",
       "      <td>0</td>\n",
       "      <td>0</td>\n",
       "      <td>1</td>\n",
       "      <td>1</td>\n",
       "      <td>0</td>\n",
       "      <td>8</td>\n",
       "      <td>1</td>\n",
       "      <td>0</td>\n",
       "      <td>1</td>\n",
       "    </tr>\n",
       "    <tr>\n",
       "      <th>2</th>\n",
       "      <td>http://kashmir-packages.com/.well-known/wp/log...</td>\n",
       "      <td>kashmir-packages.com</td>\n",
       "      <td>0</td>\n",
       "      <td>0</td>\n",
       "      <td>0</td>\n",
       "      <td>1</td>\n",
       "      <td>0</td>\n",
       "      <td>1</td>\n",
       "      <td>0</td>\n",
       "      <td>5</td>\n",
       "      <td>2</td>\n",
       "      <td>2</td>\n",
       "      <td>1</td>\n",
       "    </tr>\n",
       "    <tr>\n",
       "      <th>3</th>\n",
       "      <td>http://newsimdigital.com/doc</td>\n",
       "      <td>newsimdigital.com</td>\n",
       "      <td>0</td>\n",
       "      <td>0</td>\n",
       "      <td>0</td>\n",
       "      <td>0</td>\n",
       "      <td>0</td>\n",
       "      <td>1</td>\n",
       "      <td>0</td>\n",
       "      <td>3</td>\n",
       "      <td>0</td>\n",
       "      <td>0</td>\n",
       "      <td>1</td>\n",
       "    </tr>\n",
       "    <tr>\n",
       "      <th>4</th>\n",
       "      <td>https://secure07c-secure-user-verification.ser...</td>\n",
       "      <td>secure07c-secure-user-verification.serveuser.com</td>\n",
       "      <td>0</td>\n",
       "      <td>0</td>\n",
       "      <td>0</td>\n",
       "      <td>0</td>\n",
       "      <td>0</td>\n",
       "      <td>0</td>\n",
       "      <td>0</td>\n",
       "      <td>5</td>\n",
       "      <td>3</td>\n",
       "      <td>0</td>\n",
       "      <td>1</td>\n",
       "    </tr>\n",
       "  </tbody>\n",
       "</table>\n",
       "</div>"
      ],
      "text/plain": [
       "                                                URLs  \\\n",
       "0            https://sekabetgiriskayit.blogspot.com/   \n",
       "1  http://www.kidscoloringpdf.com/wp-content/xxx/...   \n",
       "2  http://kashmir-packages.com/.well-known/wp/log...   \n",
       "3                       http://newsimdigital.com/doc   \n",
       "4  https://secure07c-secure-user-verification.ser...   \n",
       "\n",
       "                                             domain  protocol  ip_addr  \\\n",
       "0                    sekabetgiriskayit.blogspot.com         0        0   \n",
       "1                               kidscoloringpdf.com         0        0   \n",
       "2                              kashmir-packages.com         0        0   \n",
       "3                                 newsimdigital.com         0        0   \n",
       "4  secure07c-secure-user-verification.serveuser.com         0        0   \n",
       "\n",
       "   get_period  average_word_len  path_length  check_double_slash  containsAt  \\\n",
       "0           0                 0            0                   0           0   \n",
       "1           0                 0            1                   1           0   \n",
       "2           0                 1            0                   1           0   \n",
       "3           0                 0            0                   1           0   \n",
       "4           0                 0            0                   0           0   \n",
       "\n",
       "   sub_dir  containsHyphen  countQueries  Label  \n",
       "0        3               0             0      1  \n",
       "1        8               1             0      1  \n",
       "2        5               2             2      1  \n",
       "3        3               0             0      1  \n",
       "4        5               3             0      1  "
      ]
     },
     "execution_count": 60,
     "metadata": {},
     "output_type": "execute_result"
    }
   ],
   "source": [
    "# Quick double-checking if our objects have the right type of data.\n",
    "malicious.head()"
   ]
  },
  {
   "cell_type": "markdown",
   "metadata": {},
   "source": [
    "## A new dataset has been created and populated by the custom functions with new values. The new DataFrame will be saved on a new csv file"
   ]
  },
  {
   "cell_type": "code",
   "execution_count": 62,
   "metadata": {
    "collapsed": true
   },
   "outputs": [],
   "source": [
    "malicious.to_csv('malicious_urls.csv', index=False)"
   ]
  },
  {
   "cell_type": "markdown",
   "metadata": {},
   "source": [
    "# 7. Final concatenated Data "
   ]
  },
  {
   "cell_type": "markdown",
   "metadata": {},
   "source": [
    "### In the previous section, two new dataframes were created - legitimate and malicious. In order to continue with the notebook we will concatenate them into one final dataset. "
   ]
  },
  {
   "cell_type": "code",
   "execution_count": 63,
   "metadata": {
    "collapsed": true
   },
   "outputs": [],
   "source": [
    "# Concatenating two DataFrames \n",
    "# if ignore_index = True, we do not use the index values along\n",
    "# the concatenation axis\n",
    "frame =[malicious, legitimate]\n",
    "concat_data = pd.concat(frame, ignore_index=True)"
   ]
  },
  {
   "cell_type": "markdown",
   "metadata": {},
   "source": [
    "## Even though we analyzed the two dataframes seperately, performing the same method here as well, might save us some inconveniences later on "
   ]
  },
  {
   "cell_type": "code",
   "execution_count": 64,
   "metadata": {},
   "outputs": [
    {
     "name": "stdout",
     "output_type": "stream",
     "text": [
      "----------------------------------------\n",
      "    |                             |\n",
      "    | DataFrame : Final Data      |\n",
      "    |                             |\n",
      "----------------------------------------\n",
      "\n",
      "Columns in the DataFrame:\n",
      "\n",
      "['URLs' 'domain' 'protocol' 'ip_addr' 'get_period' 'average_word_len'\n",
      " 'path_length' 'check_double_slash' 'containsAt' 'sub_dir' 'containsHyphen'\n",
      " 'countQueries' 'Label'] \n",
      "\n",
      "-----------------------------------------\n",
      "\n",
      "Summary of all the columns:\n",
      "\n",
      "<class 'pandas.core.frame.DataFrame'>\n",
      "RangeIndex: 15000 entries, 0 to 14999\n",
      "Data columns (total 13 columns):\n",
      "URLs                  15000 non-null object\n",
      "domain                15000 non-null object\n",
      "protocol              15000 non-null int64\n",
      "ip_addr               15000 non-null int64\n",
      "get_period            15000 non-null int64\n",
      "average_word_len      15000 non-null int64\n",
      "path_length           15000 non-null int64\n",
      "check_double_slash    15000 non-null int64\n",
      "containsAt            15000 non-null int64\n",
      "sub_dir               15000 non-null int64\n",
      "containsHyphen        15000 non-null int64\n",
      "countQueries          15000 non-null int64\n",
      "Label                 15000 non-null int64\n",
      "dtypes: int64(11), object(2)\n",
      "memory usage: 1.5+ MB\n",
      "None \n",
      "\n",
      "-----------------------------------------\n",
      "\n",
      "Summary of the first 5 objects from the DataFrame\n",
      "\n",
      "                                                URLs  \\\n",
      "0            https://sekabetgiriskayit.blogspot.com/   \n",
      "1  http://www.kidscoloringpdf.com/wp-content/xxx/...   \n",
      "2  http://kashmir-packages.com/.well-known/wp/log...   \n",
      "3                       http://newsimdigital.com/doc   \n",
      "4  https://secure07c-secure-user-verification.ser...   \n",
      "\n",
      "                                             domain  protocol  ip_addr  \\\n",
      "0                    sekabetgiriskayit.blogspot.com         0        0   \n",
      "1                               kidscoloringpdf.com         0        0   \n",
      "2                              kashmir-packages.com         0        0   \n",
      "3                                 newsimdigital.com         0        0   \n",
      "4  secure07c-secure-user-verification.serveuser.com         0        0   \n",
      "\n",
      "   get_period  average_word_len  path_length  check_double_slash  containsAt  \\\n",
      "0           0                 0            0                   0           0   \n",
      "1           0                 0            1                   1           0   \n",
      "2           0                 1            0                   1           0   \n",
      "3           0                 0            0                   1           0   \n",
      "4           0                 0            0                   0           0   \n",
      "\n",
      "   sub_dir  containsHyphen  countQueries  Label  \n",
      "0        3               0             0      1  \n",
      "1        8               1             0      1  \n",
      "2        5               2             2      1  \n",
      "3        3               0             0      1  \n",
      "4        5               3             0      1   \n",
      "\n",
      "-----------------------------------------\n",
      "\n",
      "Summary of the last 5 objects from the DataFrame\n",
      "\n",
      "                                                    URLs           domain  \\\n",
      "14995  http://nypost.com/2015/05/01/apple-admits-tatt...       nypost.com   \n",
      "14996  http://icicibank.com/Personal-Banking/insuranc...    icicibank.com   \n",
      "14997  http://thenextweb.com/socialmedia/2012/05/30/f...   thenextweb.com   \n",
      "14998  http://distractify.com/post/related/id/5553577...  distractify.com   \n",
      "14999  http://ringring.vn/kinh-hoang-giay-phut-vo-chu...      ringring.vn   \n",
      "\n",
      "       protocol  ip_addr  get_period  average_word_len  path_length  \\\n",
      "14995         0        0           0                 0            1   \n",
      "14996         0        0           0                 0            1   \n",
      "14997         0        0           0                 1            1   \n",
      "14998         0        0           0                 0            1   \n",
      "14999         0        0           0                 1            1   \n",
      "\n",
      "       check_double_slash  containsAt  sub_dir  containsHyphen  countQueries  \\\n",
      "14995                   1           0        7               8             0   \n",
      "14996                   1           0        7               4             0   \n",
      "14997                   1           0        8              14             0   \n",
      "14998                   1           0       12               0             0   \n",
      "14999                   1           0        3              13             0   \n",
      "\n",
      "       Label  \n",
      "14995      0  \n",
      "14996      0  \n",
      "14997      0  \n",
      "14998      0  \n",
      "14999      0   \n",
      "\n",
      "-----------------------------------------\n",
      "\n",
      "Detect missing values in the DataFrame:\n",
      "\n",
      "URLs                  0\n",
      "domain                0\n",
      "protocol              0\n",
      "ip_addr               0\n",
      "get_period            0\n",
      "average_word_len      0\n",
      "path_length           0\n",
      "check_double_slash    0\n",
      "containsAt            0\n",
      "sub_dir               0\n",
      "containsHyphen        0\n",
      "countQueries          0\n",
      "Label                 0\n",
      "dtype: int64 \n",
      "\n",
      "-----------------------------------------\n",
      "\n",
      "Shape of the DataFrame:\n",
      "\n",
      "(15000, 13)\n",
      "-----------------------------------------\n"
     ]
    }
   ],
   "source": [
    "# Function to analyze the data and return a report \n",
    "\n",
    "def print_report():\n",
    "    print('----------------------------------------')\n",
    "    print('    |                             |')\n",
    "    print('    | DataFrame : Final Data      |')\n",
    "    print('    |                             |')\n",
    "    print('----------------------------------------\\n')\n",
    "    print('Columns in the DataFrame:\\n')\n",
    "    print(concat_data.columns.values,'\\n')\n",
    "    print('-----------------------------------------\\n')\n",
    "    print('Summary of all the columns:\\n')\n",
    "    print(concat_data.info(),'\\n')\n",
    "    print('-----------------------------------------\\n')\n",
    "    print('Summary of the first 5 objects from the DataFrame\\n')\n",
    "    print(concat_data.iloc[0:5],'\\n')\n",
    "    print('-----------------------------------------\\n')\n",
    "    print('Summary of the last 5 objects from the DataFrame\\n')\n",
    "    print(concat_data.tail(),'\\n')\n",
    "    print('-----------------------------------------\\n')\n",
    "    print('Detect missing values in the DataFrame:\\n')\n",
    "    print(concat_data.isnull().sum(),'\\n')\n",
    "    print('-----------------------------------------\\n')\n",
    "    print('Shape of the DataFrame:\\n')\n",
    "    print(concat_data.shape)\n",
    "    print('-----------------------------------------')\n",
    "print_report()"
   ]
  },
  {
   "cell_type": "code",
   "execution_count": 65,
   "metadata": {},
   "outputs": [
    {
     "data": {
      "image/png": "[encoded data removed]",
      "text/plain": [
       "<matplotlib.figure.Figure at 0x21ee4cae588>"
      ]
     },
     "metadata": {},
     "output_type": "display_data"
    }
   ],
   "source": [
    "# Import required package \n",
    "import matplotlib.pyplot as plt\n",
    "    \n",
    "# A groupby operation is used to combine the Column 'Label', applying a function count()\n",
    "# In order to get all occurrences of 0 and 1 in the column and plot the result. \n",
    "\n",
    "concat_data.groupby(concat_data['Label']).count().plot(kind='bar', legend= True)\n",
    "# Set a title name for the plot\n",
    "plt.title('Number of URLs with Label 0 & 1')\n",
    "\n",
    "# Change the paremeters of the legend such as - location on the plot, title\n",
    "# The bbox argument  allows arbitrary placement of the legend.\n",
    "plt.legend(loc='best', bbox_to_anchor=(1,0.5,0,0), title=\"Column Properties\")\n",
    "\n",
    "# Displaying the Barplot \n",
    "plt.show()"
   ]
  },
  {
   "cell_type": "markdown",
   "metadata": {},
   "source": [
    "### The output proves that the data has been concatenated correctly. The new DataFrame has equal number of legitimate and malicious URLs with 11 features extracted."
   ]
  },
  {
   "cell_type": "code",
   "execution_count": 66,
   "metadata": {},
   "outputs": [
    {
     "name": "stdout",
     "output_type": "stream",
     "text": [
      "                                                    URLs  \\\n",
      "0                https://sekabetgiriskayit.blogspot.com/   \n",
      "1      http://www.kidscoloringpdf.com/wp-content/xxx/...   \n",
      "2      http://kashmir-packages.com/.well-known/wp/log...   \n",
      "3                           http://newsimdigital.com/doc   \n",
      "4      https://secure07c-secure-user-verification.ser...   \n",
      "5      http://stg.qureshimedia.com/wp-includes/thermo...   \n",
      "6                      https://three-keychain-info.co.uk   \n",
      "7                    https://halifax-payee-security.net/   \n",
      "8                      http://sepcial-updater.com/review   \n",
      "9                              http://sdhjhkjkjhgfd.com/   \n",
      "10     http://halifax.secure-verified-login.com/Login...   \n",
      "11     http://qanfin.com/entscheidung-522603576371783...   \n",
      "12     https://docs.google.com/forms/d/e/1FAIpQLScNUH...   \n",
      "13     https://emyturk.com/sd/IK/of1/1hf46clmpgtrqado...   \n",
      "14          https://halifax-devicedetected.com/Login.php   \n",
      "15      https://rakuten.co.jp1.wlkheiklsdasdasd123.buzz/   \n",
      "16                         https://halifax-onlineuk.com/   \n",
      "17     http://cnatamil.com/aboutgo/Confirm/myaccount/...   \n",
      "18             http://grottedisaledesenzano.com/verr.php   \n",
      "19        http://hutoknepper.de/AutoScout24%20-phone.php   \n",
      "20     http://antommaths.com/wp-content/plugins/dupli...   \n",
      "21     http://www.stolizaparketa.ru/wp-content/themes...   \n",
      "22     http://gpneledlight.com/wp-content/plugins/css...   \n",
      "23                             http://mapadamente.com.br   \n",
      "24             http://lloyds-confirmdevice.com/Login.php   \n",
      "25                https://helpdesk-halifax.com/Login.php   \n",
      "26     https://secure.runescape.com-as.ru/m=weblogin/...   \n",
      "27                 https://ct11.my.sofftbank.top/mobile/   \n",
      "28     http://qpuwnzrvtumivgiqbooxognxwz-dot-triple-u...   \n",
      "29                    https://halifax-logindetected.com/   \n",
      "...                                                  ...   \n",
      "14970  http://thechive.com/2015/03/05/can-summer-come...   \n",
      "14971  http://otomoto.pl/osobowe/mazda/rx-8/?search%5...   \n",
      "14972  http://mylust.com/videos/227440/who-wouldn-t-w...   \n",
      "14973  https://500px.com/photo/9134251/infinity-tumbl...   \n",
      "14974  http://bigcinema.tv/tag/%D0%90%D0%BB%D0%BB%D0%...   \n",
      "14975  http://atwiki.jp/wiki/%E3%83%A9%E3%82%A4%E3%83...   \n",
      "14976  http://slashdot.org/submission/2345021/foxs-at...   \n",
      "14977  http://fishki.net/1529989-s-ulicy-jeto-mozhet-...   \n",
      "14978  http://techcrunch.com/video/alexis-ohanian-on-...   \n",
      "14979  http://twitter.com/home?status=%E3%83%8C%E3%81...   \n",
      "14980  http://torcache.net/torrent/4BB51598844C5A9330...   \n",
      "14981  http://thenextweb.com/apps/2015/05/13/google-f...   \n",
      "14982  http://xhamster.com/movies/4561976/casting_ama...   \n",
      "14983  http://watch-series-tv.to/serie/Ano_Hi_Mita_Ha...   \n",
      "14984  http://buzzfil.net/article/5377/vdm/arretez-to...   \n",
      "14985  http://distractify.com/post/related/id/5553739...   \n",
      "14986  http://nesn.com/2015/04/milan-lucic-puts-on-on...   \n",
      "14987  http://nesn.com/2015/05/united-states-beats-de...   \n",
      "14988  http://how-old.net/bundles/javascript?v=dqe6oC...   \n",
      "14989  http://techcrunch.com/2015/01/11/yota-devices-...   \n",
      "14990  http://uproxx.com/sports/2015/05/former-ufc-ch...   \n",
      "14991  http://extratorrent.cc/torrent_download/419048...   \n",
      "14992  http://otomoto.pl/oferta/volvo-fm12-420-big-ax...   \n",
      "14993  http://subscene.com/subtitles/sensory-couple--...   \n",
      "14994  http://persianblog.ir/tags/42383/13/%d8%af%d8%...   \n",
      "14995  http://nypost.com/2015/05/01/apple-admits-tatt...   \n",
      "14996  http://icicibank.com/Personal-Banking/insuranc...   \n",
      "14997  http://thenextweb.com/socialmedia/2012/05/30/f...   \n",
      "14998  http://distractify.com/post/related/id/5553577...   \n",
      "14999  http://ringring.vn/kinh-hoang-giay-phut-vo-chu...   \n",
      "\n",
      "                                                  domain  protocol  ip_addr  \\\n",
      "0                         sekabetgiriskayit.blogspot.com         0        0   \n",
      "1                                    kidscoloringpdf.com         0        0   \n",
      "2                                   kashmir-packages.com         0        0   \n",
      "3                                      newsimdigital.com         0        0   \n",
      "4       secure07c-secure-user-verification.serveuser.com         0        0   \n",
      "5                                   stg.qureshimedia.com         0        0   \n",
      "6                              three-keychain-info.co.uk         0        0   \n",
      "7                             halifax-payee-security.net         0        0   \n",
      "8                                    sepcial-updater.com         0        0   \n",
      "9                                      sdhjhkjkjhgfd.com         0        0   \n",
      "10                     halifax.secure-verified-login.com         0        0   \n",
      "11                                            qanfin.com         0        0   \n",
      "12                                       docs.google.com         0        0   \n",
      "13                                           emyturk.com         0        0   \n",
      "14                            halifax-devicedetected.com         0        0   \n",
      "15               rakuten.co.jp1.wlkheiklsdasdasd123.buzz         0        0   \n",
      "16                                  halifax-onlineuk.com         0        0   \n",
      "17                                          cnatamil.com         0        0   \n",
      "18                             grottedisaledesenzano.com         0        0   \n",
      "19                                        hutoknepper.de         0        0   \n",
      "20                                        antommaths.com         0        0   \n",
      "21                                     stolizaparketa.ru         0        0   \n",
      "22                                      gpneledlight.com         0        0   \n",
      "23                                    mapadamente.com.br         0        0   \n",
      "24                              lloyds-confirmdevice.com         0        0   \n",
      "25                                  helpdesk-halifax.com         0        0   \n",
      "26                            secure.runescape.com-as.ru         0        0   \n",
      "27                                 ct11.my.sofftbank.top         0        0   \n",
      "28     qpuwnzrvtumivgiqbooxognxwz-dot-triple-upgrade-...         0        0   \n",
      "29                             halifax-logindetected.com         0        0   \n",
      "...                                                  ...       ...      ...   \n",
      "14970                                       thechive.com         0        0   \n",
      "14971                                         otomoto.pl         0        0   \n",
      "14972                                         mylust.com         0        0   \n",
      "14973                                          500px.com         0        0   \n",
      "14974                                       bigcinema.tv         0        0   \n",
      "14975                                          atwiki.jp         0        0   \n",
      "14976                                       slashdot.org         0        0   \n",
      "14977                                         fishki.net         0        0   \n",
      "14978                                     techcrunch.com         0        0   \n",
      "14979                                        twitter.com         0        0   \n",
      "14980                                       torcache.net         0        0   \n",
      "14981                                     thenextweb.com         0        0   \n",
      "14982                                       xhamster.com         0        0   \n",
      "14983                                 watch-series-tv.to         0        0   \n",
      "14984                                        buzzfil.net         0        0   \n",
      "14985                                    distractify.com         0        0   \n",
      "14986                                           nesn.com         0        0   \n",
      "14987                                           nesn.com         0        0   \n",
      "14988                                        how-old.net         0        0   \n",
      "14989                                     techcrunch.com         0        0   \n",
      "14990                                         uproxx.com         0        0   \n",
      "14991                                    extratorrent.cc         0        0   \n",
      "14992                                         otomoto.pl         0        0   \n",
      "14993                                       subscene.com         0        0   \n",
      "14994                                     persianblog.ir         0        0   \n",
      "14995                                         nypost.com         0        0   \n",
      "14996                                      icicibank.com         0        0   \n",
      "14997                                     thenextweb.com         0        0   \n",
      "14998                                    distractify.com         0        0   \n",
      "14999                                        ringring.vn         0        0   \n",
      "\n",
      "       get_period  average_word_len  path_length  check_double_slash  \\\n",
      "0               0                 0            0                   0   \n",
      "1               0                 0            1                   1   \n",
      "2               0                 1            0                   1   \n",
      "3               0                 0            0                   1   \n",
      "4               0                 0            0                   0   \n",
      "5               0                 1            0                   1   \n",
      "6               0                 0            0                   0   \n",
      "7               0                 0            0                   0   \n",
      "8               0                 0            0                   1   \n",
      "9               0                 0            0                   1   \n",
      "10              0                 0            0                   1   \n",
      "11              0                 1            1                   1   \n",
      "12              0                 0            1                   0   \n",
      "13              0                 1            1                   0   \n",
      "14              0                 0            0                   0   \n",
      "15              0                 0            0                   0   \n",
      "16              0                 0            0                   0   \n",
      "17              0                 0            1                   1   \n",
      "18              0                 0            0                   1   \n",
      "19              0                 0            0                   1   \n",
      "20              0                 0            1                   1   \n",
      "21              1                 0            1                   1   \n",
      "22              0                 1            1                   1   \n",
      "23              0                 0            0                   1   \n",
      "24              0                 0            0                   1   \n",
      "25              0                 0            0                   0   \n",
      "26              0                 1            1                   0   \n",
      "27              0                 0            0                   0   \n",
      "28              0                 1            0                   1   \n",
      "29              0                 0            0                   0   \n",
      "...           ...               ...          ...                 ...   \n",
      "14970           0                 0            1                   1   \n",
      "14971           0                 0            0                   1   \n",
      "14972           0                 0            1                   1   \n",
      "14973           0                 1            1                   0   \n",
      "14974           0                 1            1                   1   \n",
      "14975           0                 1            1                   1   \n",
      "14976           0                 1            1                   1   \n",
      "14977           0                 1            1                   1   \n",
      "14978           0                 0            1                   1   \n",
      "14979           0                 1            0                   1   \n",
      "14980           1                 1            1                   1   \n",
      "14981           0                 0            1                   1   \n",
      "14982           0                 1            1                   1   \n",
      "14983           0                 1            1                   1   \n",
      "14984           0                 1            1                   1   \n",
      "14985           0                 0            1                   1   \n",
      "14986           0                 0            1                   1   \n",
      "14987           0                 0            1                   1   \n",
      "14988           0                 1            0                   1   \n",
      "14989           0                 0            1                   1   \n",
      "14990           0                 0            1                   1   \n",
      "14991           0                 1            1                   1   \n",
      "14992           0                 1            1                   1   \n",
      "14993           0                 0            1                   1   \n",
      "14994           0                 0            1                   1   \n",
      "14995           0                 0            1                   1   \n",
      "14996           0                 0            1                   1   \n",
      "14997           0                 1            1                   1   \n",
      "14998           0                 0            1                   1   \n",
      "14999           0                 1            1                   1   \n",
      "\n",
      "       containsAt  sub_dir  containsHyphen  countQueries  Label  \n",
      "0               0        3               0             0      1  \n",
      "1               0        8               1             0      1  \n",
      "2               0        5               2             2      1  \n",
      "3               0        3               0             0      1  \n",
      "4               0        5               3             0      1  \n",
      "5               0        6               1             1      1  \n",
      "6               0        2               2             0      1  \n",
      "7               0        3               2             0      1  \n",
      "8               0        3               1             0      1  \n",
      "9               0        3               0             0      1  \n",
      "10              0        3               2             0      1  \n",
      "11              1        3               6             2      1  \n",
      "12              0        7               0             0      1  \n",
      "13              0        6               0             0      1  \n",
      "14              0        3               1             0      1  \n",
      "15              0        3               0             0      1  \n",
      "16              0        3               1             0      1  \n",
      "17              0        6               0             0      1  \n",
      "18              0        3               0             0      1  \n",
      "19              0        3               1             0      1  \n",
      "20              0        9               1             0      1  \n",
      "21              1        9               1             0      1  \n",
      "22              0        8               3             6      1  \n",
      "23              0        2               0             0      1  \n",
      "24              0        3               1             0      1  \n",
      "25              0        3               1             0      1  \n",
      "26              0        4               1             0      1  \n",
      "27              0        4               0             0      1  \n",
      "28              0        3               4             0      1  \n",
      "29              0        3               1             0      1  \n",
      "...           ...      ...             ...           ...    ...  \n",
      "14970           0        7              12             0      0  \n",
      "14971           0        6               1             0      0  \n",
      "14972           0        6              11             0      0  \n",
      "14973           0        5               7             1      0  \n",
      "14974           0        4               0             0      0  \n",
      "14975           0        4               0             0      0  \n",
      "14976           0        5               9             0      0  \n",
      "14977           0        3              10             0      0  \n",
      "14978           0        6               7             0      0  \n",
      "14979           0        3               1             0      0  \n",
      "14980           0        4               0             0      0  \n",
      "14981           0        8              13             0      0  \n",
      "14982           0        5               0             0      0  \n",
      "14983           0        4               2             0      0  \n",
      "14984           0        6              14             0      0  \n",
      "14985           0       12               0             0      0  \n",
      "14986           0        6              12             0      0  \n",
      "14987           0        6              12             0      0  \n",
      "14988           0        4               1             0      0  \n",
      "14989           0        7              14             0      0  \n",
      "14990           0        7              10             0      0  \n",
      "14991           0        5               2             0      0  \n",
      "14992           0        4               8             0      0  \n",
      "14993           0        6               7             0      0  \n",
      "14994           0        7               0             0      0  \n",
      "14995           0        7               8             0      0  \n",
      "14996           0        7               4             0      0  \n",
      "14997           0        8              14             0      0  \n",
      "14998           0       12               0             0      0  \n",
      "14999           0        3              13             0      0  \n",
      "\n",
      "[15000 rows x 13 columns]\n"
     ]
    }
   ],
   "source": [
    "# The URLs column is irrelevant to the next Sections\n",
    "# So we drop the column from the DataFrame\n",
    "print(concat_data)\n",
    "concat_data.drop(['URLs'], axis =1 , inplace=True)"
   ]
  },
  {
   "cell_type": "markdown",
   "metadata": {},
   "source": [
    "### The concatenation was performed accurately. Therefore, the DataFrame can be saved on a csv file and applied in the Model Training section."
   ]
  },
  {
   "cell_type": "code",
   "execution_count": 67,
   "metadata": {
    "collapsed": true
   },
   "outputs": [],
   "source": [
    "concat_data.to_csv('final_conca.csv', index=False) "
   ]
  },
  {
   "cell_type": "markdown",
   "metadata": {},
   "source": [
    "# 8. Preparing the data"
   ]
  },
  {
   "cell_type": "code",
   "execution_count": 68,
   "metadata": {
    "collapsed": true
   },
   "outputs": [],
   "source": [
    "# Load the concatenated data \n",
    "final_data = pd.read_csv('final_conca.csv')"
   ]
  },
  {
   "cell_type": "markdown",
   "metadata": {},
   "source": [
    "#### Quick data analyzing before we proceed "
   ]
  },
  {
   "cell_type": "code",
   "execution_count": 69,
   "metadata": {},
   "outputs": [
    {
     "name": "stdout",
     "output_type": "stream",
     "text": [
      "Index(['domain', 'protocol', 'ip_addr', 'get_period', 'average_word_len',\n",
      "       'path_length', 'check_double_slash', 'containsAt', 'sub_dir',\n",
      "       'containsHyphen', 'countQueries', 'Label'],\n",
      "      dtype='object') \n",
      "\n",
      "<class 'pandas.core.frame.DataFrame'>\n",
      "RangeIndex: 15000 entries, 0 to 14999\n",
      "Data columns (total 12 columns):\n",
      "domain                15000 non-null object\n",
      "protocol              15000 non-null int64\n",
      "ip_addr               15000 non-null int64\n",
      "get_period            15000 non-null int64\n",
      "average_word_len      15000 non-null int64\n",
      "path_length           15000 non-null int64\n",
      "check_double_slash    15000 non-null int64\n",
      "containsAt            15000 non-null int64\n",
      "sub_dir               15000 non-null int64\n",
      "containsHyphen        15000 non-null int64\n",
      "countQueries          15000 non-null int64\n",
      "Label                 15000 non-null int64\n",
      "dtypes: int64(11), object(1)\n",
      "memory usage: 1.4+ MB\n",
      "None \n",
      "\n",
      "(15000, 12) \n",
      "\n"
     ]
    }
   ],
   "source": [
    "print(final_data.columns,'\\n')\n",
    "print(final_data.info(),'\\n')\n",
    "print(final_data.shape,'\\n')\n"
   ]
  },
  {
   "cell_type": "markdown",
   "metadata": {},
   "source": [
    "## When the concatination was performed, the data was merged together by adding 7500 malicious urls and 7500 legitimate urls without shuffling them. "
   ]
  },
  {
   "cell_type": "code",
   "execution_count": 70,
   "metadata": {},
   "outputs": [
    {
     "data": {
      "text/html": [
       "<div>\n",
       "<style>\n",
       "    .dataframe thead tr:only-child th {\n",
       "        text-align: right;\n",
       "    }\n",
       "\n",
       "    .dataframe thead th {\n",
       "        text-align: left;\n",
       "    }\n",
       "\n",
       "    .dataframe tbody tr th {\n",
       "        vertical-align: top;\n",
       "    }\n",
       "</style>\n",
       "<table border=\"1\" class=\"dataframe\">\n",
       "  <thead>\n",
       "    <tr style=\"text-align: right;\">\n",
       "      <th></th>\n",
       "      <th>domain</th>\n",
       "      <th>protocol</th>\n",
       "      <th>ip_addr</th>\n",
       "      <th>get_period</th>\n",
       "      <th>average_word_len</th>\n",
       "      <th>path_length</th>\n",
       "      <th>check_double_slash</th>\n",
       "      <th>containsAt</th>\n",
       "      <th>sub_dir</th>\n",
       "      <th>containsHyphen</th>\n",
       "      <th>countQueries</th>\n",
       "      <th>Label</th>\n",
       "    </tr>\n",
       "  </thead>\n",
       "  <tbody>\n",
       "    <tr>\n",
       "      <th>0</th>\n",
       "      <td>xn--logn-localbtcoins-wubi.com</td>\n",
       "      <td>0</td>\n",
       "      <td>0</td>\n",
       "      <td>0</td>\n",
       "      <td>0</td>\n",
       "      <td>0</td>\n",
       "      <td>1</td>\n",
       "      <td>0</td>\n",
       "      <td>5</td>\n",
       "      <td>4</td>\n",
       "      <td>0</td>\n",
       "      <td>1</td>\n",
       "    </tr>\n",
       "    <tr>\n",
       "      <th>1</th>\n",
       "      <td>xvideo-jp.com</td>\n",
       "      <td>0</td>\n",
       "      <td>0</td>\n",
       "      <td>0</td>\n",
       "      <td>0</td>\n",
       "      <td>1</td>\n",
       "      <td>1</td>\n",
       "      <td>0</td>\n",
       "      <td>5</td>\n",
       "      <td>1</td>\n",
       "      <td>0</td>\n",
       "      <td>0</td>\n",
       "    </tr>\n",
       "    <tr>\n",
       "      <th>2</th>\n",
       "      <td>andreacostafisio.com.br</td>\n",
       "      <td>0</td>\n",
       "      <td>0</td>\n",
       "      <td>0</td>\n",
       "      <td>1</td>\n",
       "      <td>1</td>\n",
       "      <td>0</td>\n",
       "      <td>0</td>\n",
       "      <td>6</td>\n",
       "      <td>1</td>\n",
       "      <td>2</td>\n",
       "      <td>1</td>\n",
       "    </tr>\n",
       "    <tr>\n",
       "      <th>3</th>\n",
       "      <td>hublaalikes.com</td>\n",
       "      <td>0</td>\n",
       "      <td>0</td>\n",
       "      <td>0</td>\n",
       "      <td>0</td>\n",
       "      <td>0</td>\n",
       "      <td>0</td>\n",
       "      <td>0</td>\n",
       "      <td>3</td>\n",
       "      <td>0</td>\n",
       "      <td>0</td>\n",
       "      <td>1</td>\n",
       "    </tr>\n",
       "    <tr>\n",
       "      <th>4</th>\n",
       "      <td>halifaxpayeeconfirm.com</td>\n",
       "      <td>0</td>\n",
       "      <td>0</td>\n",
       "      <td>0</td>\n",
       "      <td>0</td>\n",
       "      <td>0</td>\n",
       "      <td>1</td>\n",
       "      <td>0</td>\n",
       "      <td>3</td>\n",
       "      <td>0</td>\n",
       "      <td>0</td>\n",
       "      <td>1</td>\n",
       "    </tr>\n",
       "  </tbody>\n",
       "</table>\n",
       "</div>"
      ],
      "text/plain": [
       "                           domain  protocol  ip_addr  get_period  \\\n",
       "0  xn--logn-localbtcoins-wubi.com         0        0           0   \n",
       "1                   xvideo-jp.com         0        0           0   \n",
       "2         andreacostafisio.com.br         0        0           0   \n",
       "3                 hublaalikes.com         0        0           0   \n",
       "4         halifaxpayeeconfirm.com         0        0           0   \n",
       "\n",
       "   average_word_len  path_length  check_double_slash  containsAt  sub_dir  \\\n",
       "0                 0            0                   1           0        5   \n",
       "1                 0            1                   1           0        5   \n",
       "2                 1            1                   0           0        6   \n",
       "3                 0            0                   0           0        3   \n",
       "4                 0            0                   1           0        3   \n",
       "\n",
       "   containsHyphen  countQueries  Label  \n",
       "0               4             0      1  \n",
       "1               1             0      0  \n",
       "2               1             2      1  \n",
       "3               0             0      1  \n",
       "4               0             0      1  "
      ]
     },
     "execution_count": 70,
     "metadata": {},
     "output_type": "execute_result"
    }
   ],
   "source": [
    "# Shuffle the rows in the dataset in order to \n",
    "# split the training and testing set equally later on\n",
    "final_data = final_data.sample(frac=1).reset_index(drop=True)\n",
    "final_data.head()"
   ]
  },
  {
   "cell_type": "markdown",
   "metadata": {},
   "source": [
    "### After performing the shuffling we can see that the data is mixed and it can be splitted for training the models"
   ]
  },
  {
   "cell_type": "markdown",
   "metadata": {},
   "source": [
    "### The \"com\" extension is too common so we decided to remove it. "
   ]
  },
  {
   "cell_type": "code",
   "execution_count": 71,
   "metadata": {},
   "outputs": [],
   "source": [
    "# Tokenization basically is used for splitting up a larger body of text into smaller lines\n",
    "# In our case, with the tokenizer we trying to find the \"com\" extension in the domain of the URLs \n",
    "# \"com\" is too common in the domains so for the models will be better if we remove it \n",
    "\n",
    "def tokenizer(domain):\n",
    "    sub_domain = \"\"\n",
    "    index = 0\n",
    "    # Loop through all domains in the dataframe\n",
    "    for i in domain:\n",
    "        # If the boolean expression is true we will return the sub_domain as an empty string; thus \"com\" will be removed\n",
    "        if i == \".\" and domain[index + 1] == \"c\" and domain[index + 2] == \"o\":\n",
    "            break\n",
    "        # if we do not find a match we return the subdomain as it is in the dataframe: example - the  \"fr\" extension will not be removed     \n",
    "        else:\n",
    "            sub_domain = sub_domain + domain[index]\n",
    "        index = index + 1\n",
    "    \n",
    "    # return the sub_domain \n",
    "    return sub_domain\n",
    "\n",
    "# We apply the function on the dataframe's column 'domain' \n",
    "tokenizer = final_data['domain'].apply(tokenizer)\n",
    "# We drop the previous column of the domain\n",
    "final_data.drop(['domain'], axis = 1, inplace=True)"
   ]
  },
  {
   "cell_type": "code",
   "execution_count": 72,
   "metadata": {
    "collapsed": true
   },
   "outputs": [],
   "source": [
    "# We insert the new column with the tokenized domain - the domains will not have \"com\" extension anymore\n",
    "# We set where in the dataframe we want to insert the new column , the name and the value of it\n",
    "final_data.insert(loc=0,column='tokenized_domains',value=tokenizer)"
   ]
  },
  {
   "cell_type": "code",
   "execution_count": 73,
   "metadata": {},
   "outputs": [
    {
     "data": {
      "text/html": [
       "<div>\n",
       "<style>\n",
       "    .dataframe thead tr:only-child th {\n",
       "        text-align: right;\n",
       "    }\n",
       "\n",
       "    .dataframe thead th {\n",
       "        text-align: left;\n",
       "    }\n",
       "\n",
       "    .dataframe tbody tr th {\n",
       "        vertical-align: top;\n",
       "    }\n",
       "</style>\n",
       "<table border=\"1\" class=\"dataframe\">\n",
       "  <thead>\n",
       "    <tr style=\"text-align: right;\">\n",
       "      <th></th>\n",
       "      <th>tokenized_domains</th>\n",
       "      <th>protocol</th>\n",
       "      <th>ip_addr</th>\n",
       "      <th>get_period</th>\n",
       "      <th>average_word_len</th>\n",
       "      <th>path_length</th>\n",
       "      <th>check_double_slash</th>\n",
       "      <th>containsAt</th>\n",
       "      <th>sub_dir</th>\n",
       "      <th>containsHyphen</th>\n",
       "      <th>countQueries</th>\n",
       "      <th>Label</th>\n",
       "    </tr>\n",
       "  </thead>\n",
       "  <tbody>\n",
       "    <tr>\n",
       "      <th>0</th>\n",
       "      <td>xn--logn-localbtcoins-wubi</td>\n",
       "      <td>0</td>\n",
       "      <td>0</td>\n",
       "      <td>0</td>\n",
       "      <td>0</td>\n",
       "      <td>0</td>\n",
       "      <td>1</td>\n",
       "      <td>0</td>\n",
       "      <td>5</td>\n",
       "      <td>4</td>\n",
       "      <td>0</td>\n",
       "      <td>1</td>\n",
       "    </tr>\n",
       "    <tr>\n",
       "      <th>1</th>\n",
       "      <td>xvideo-jp</td>\n",
       "      <td>0</td>\n",
       "      <td>0</td>\n",
       "      <td>0</td>\n",
       "      <td>0</td>\n",
       "      <td>1</td>\n",
       "      <td>1</td>\n",
       "      <td>0</td>\n",
       "      <td>5</td>\n",
       "      <td>1</td>\n",
       "      <td>0</td>\n",
       "      <td>0</td>\n",
       "    </tr>\n",
       "    <tr>\n",
       "      <th>2</th>\n",
       "      <td>andreacostafisio</td>\n",
       "      <td>0</td>\n",
       "      <td>0</td>\n",
       "      <td>0</td>\n",
       "      <td>1</td>\n",
       "      <td>1</td>\n",
       "      <td>0</td>\n",
       "      <td>0</td>\n",
       "      <td>6</td>\n",
       "      <td>1</td>\n",
       "      <td>2</td>\n",
       "      <td>1</td>\n",
       "    </tr>\n",
       "    <tr>\n",
       "      <th>3</th>\n",
       "      <td>hublaalikes</td>\n",
       "      <td>0</td>\n",
       "      <td>0</td>\n",
       "      <td>0</td>\n",
       "      <td>0</td>\n",
       "      <td>0</td>\n",
       "      <td>0</td>\n",
       "      <td>0</td>\n",
       "      <td>3</td>\n",
       "      <td>0</td>\n",
       "      <td>0</td>\n",
       "      <td>1</td>\n",
       "    </tr>\n",
       "    <tr>\n",
       "      <th>4</th>\n",
       "      <td>halifaxpayeeconfirm</td>\n",
       "      <td>0</td>\n",
       "      <td>0</td>\n",
       "      <td>0</td>\n",
       "      <td>0</td>\n",
       "      <td>0</td>\n",
       "      <td>1</td>\n",
       "      <td>0</td>\n",
       "      <td>3</td>\n",
       "      <td>0</td>\n",
       "      <td>0</td>\n",
       "      <td>1</td>\n",
       "    </tr>\n",
       "  </tbody>\n",
       "</table>\n",
       "</div>"
      ],
      "text/plain": [
       "            tokenized_domains  protocol  ip_addr  get_period  \\\n",
       "0  xn--logn-localbtcoins-wubi         0        0           0   \n",
       "1                   xvideo-jp         0        0           0   \n",
       "2            andreacostafisio         0        0           0   \n",
       "3                 hublaalikes         0        0           0   \n",
       "4         halifaxpayeeconfirm         0        0           0   \n",
       "\n",
       "   average_word_len  path_length  check_double_slash  containsAt  sub_dir  \\\n",
       "0                 0            0                   1           0        5   \n",
       "1                 0            1                   1           0        5   \n",
       "2                 1            1                   0           0        6   \n",
       "3                 0            0                   0           0        3   \n",
       "4                 0            0                   1           0        3   \n",
       "\n",
       "   containsHyphen  countQueries  Label  \n",
       "0               4             0      1  \n",
       "1               1             0      0  \n",
       "2               1             2      1  \n",
       "3               0             0      1  \n",
       "4               0             0      1  "
      ]
     },
     "execution_count": 73,
     "metadata": {},
     "output_type": "execute_result"
    }
   ],
   "source": [
    "# Quick check if the tokenizer function has been applied correctly \n",
    "final_data.head()"
   ]
  },
  {
   "cell_type": "markdown",
   "metadata": {},
   "source": [
    "#### In this section we tried to apply CountVectorizer in order to transform the tokenized_domains into 0 and 1 so the models would be able to read them. However, It did not match with the rest of the datas and caused inconveniences.  Therefore, we just gonna drop the tokenized_domains from the dataframe. This will not cause any inconveniences for the models"
   ]
  },
  {
   "cell_type": "code",
   "execution_count": 74,
   "metadata": {},
   "outputs": [],
   "source": [
    "# from sklearn.feature_extraction.text import CountVectorizer\n",
    "# cVec = CountVectorizer().fit_transform(final_data['tokenized_domains'])\n",
    "\n",
    "final_data.drop(['tokenized_domains'], axis = 1, inplace=True)\n"
   ]
  },
  {
   "cell_type": "code",
   "execution_count": 75,
   "metadata": {},
   "outputs": [
    {
     "data": {
      "text/html": [
       "<div>\n",
       "<style>\n",
       "    .dataframe thead tr:only-child th {\n",
       "        text-align: right;\n",
       "    }\n",
       "\n",
       "    .dataframe thead th {\n",
       "        text-align: left;\n",
       "    }\n",
       "\n",
       "    .dataframe tbody tr th {\n",
       "        vertical-align: top;\n",
       "    }\n",
       "</style>\n",
       "<table border=\"1\" class=\"dataframe\">\n",
       "  <thead>\n",
       "    <tr style=\"text-align: right;\">\n",
       "      <th></th>\n",
       "      <th>protocol</th>\n",
       "      <th>ip_addr</th>\n",
       "      <th>get_period</th>\n",
       "      <th>average_word_len</th>\n",
       "      <th>path_length</th>\n",
       "      <th>check_double_slash</th>\n",
       "      <th>containsAt</th>\n",
       "      <th>sub_dir</th>\n",
       "      <th>containsHyphen</th>\n",
       "      <th>countQueries</th>\n",
       "      <th>Label</th>\n",
       "    </tr>\n",
       "  </thead>\n",
       "  <tbody>\n",
       "    <tr>\n",
       "      <th>0</th>\n",
       "      <td>0</td>\n",
       "      <td>0</td>\n",
       "      <td>0</td>\n",
       "      <td>0</td>\n",
       "      <td>0</td>\n",
       "      <td>1</td>\n",
       "      <td>0</td>\n",
       "      <td>5</td>\n",
       "      <td>4</td>\n",
       "      <td>0</td>\n",
       "      <td>1</td>\n",
       "    </tr>\n",
       "    <tr>\n",
       "      <th>1</th>\n",
       "      <td>0</td>\n",
       "      <td>0</td>\n",
       "      <td>0</td>\n",
       "      <td>0</td>\n",
       "      <td>1</td>\n",
       "      <td>1</td>\n",
       "      <td>0</td>\n",
       "      <td>5</td>\n",
       "      <td>1</td>\n",
       "      <td>0</td>\n",
       "      <td>0</td>\n",
       "    </tr>\n",
       "    <tr>\n",
       "      <th>2</th>\n",
       "      <td>0</td>\n",
       "      <td>0</td>\n",
       "      <td>0</td>\n",
       "      <td>1</td>\n",
       "      <td>1</td>\n",
       "      <td>0</td>\n",
       "      <td>0</td>\n",
       "      <td>6</td>\n",
       "      <td>1</td>\n",
       "      <td>2</td>\n",
       "      <td>1</td>\n",
       "    </tr>\n",
       "    <tr>\n",
       "      <th>3</th>\n",
       "      <td>0</td>\n",
       "      <td>0</td>\n",
       "      <td>0</td>\n",
       "      <td>0</td>\n",
       "      <td>0</td>\n",
       "      <td>0</td>\n",
       "      <td>0</td>\n",
       "      <td>3</td>\n",
       "      <td>0</td>\n",
       "      <td>0</td>\n",
       "      <td>1</td>\n",
       "    </tr>\n",
       "    <tr>\n",
       "      <th>4</th>\n",
       "      <td>0</td>\n",
       "      <td>0</td>\n",
       "      <td>0</td>\n",
       "      <td>0</td>\n",
       "      <td>0</td>\n",
       "      <td>1</td>\n",
       "      <td>0</td>\n",
       "      <td>3</td>\n",
       "      <td>0</td>\n",
       "      <td>0</td>\n",
       "      <td>1</td>\n",
       "    </tr>\n",
       "  </tbody>\n",
       "</table>\n",
       "</div>"
      ],
      "text/plain": [
       "   protocol  ip_addr  get_period  average_word_len  path_length  \\\n",
       "0         0        0           0                 0            0   \n",
       "1         0        0           0                 0            1   \n",
       "2         0        0           0                 1            1   \n",
       "3         0        0           0                 0            0   \n",
       "4         0        0           0                 0            0   \n",
       "\n",
       "   check_double_slash  containsAt  sub_dir  containsHyphen  countQueries  \\\n",
       "0                   1           0        5               4             0   \n",
       "1                   1           0        5               1             0   \n",
       "2                   0           0        6               1             2   \n",
       "3                   0           0        3               0             0   \n",
       "4                   1           0        3               0             0   \n",
       "\n",
       "   Label  \n",
       "0      1  \n",
       "1      0  \n",
       "2      1  \n",
       "3      1  \n",
       "4      1  "
      ]
     },
     "execution_count": 75,
     "metadata": {},
     "output_type": "execute_result"
    }
   ],
   "source": [
    "# Quick check to make sure the column has been dropped\n",
    "final_data.head()"
   ]
  },
  {
   "cell_type": "markdown",
   "metadata": {},
   "source": [
    "# 9. Training and Testing the Models"
   ]
  },
  {
   "cell_type": "code",
   "execution_count": 163,
   "metadata": {},
   "outputs": [],
   "source": [
    "## Required packages for the next Section\n",
    "\n",
    "### Import packages for Training and Testing Models \n",
    "from sklearn.svm import SVC\n",
    "from sklearn.tree import DecisionTreeClassifier\n",
    "from sklearn.ensemble import RandomForestClassifier\n",
    "\n",
    "### Packages for evaluating the results\n",
    "\n",
    "from sklearn.metrics import confusion_matrix\n",
    "from sklearn.metrics import accuracy_score\n",
    "from sklearn.metrics import classification_report\n",
    "from sklearn.metrics import roc_curve, auc, roc_auc_score\n",
    "from sklearn.metrics import precision_score\n",
    "from sklearn.metrics import recall_score\n",
    "\n",
    "### Import package for splitting the data into testing and training \n",
    "from sklearn.model_selection import train_test_split\n",
    "\n",
    "### Import packages for plotting the data \n",
    "import seaborn as sns\n",
    "import matplotlib.pyplot as plt\n",
    "\n",
    "## Tunning parameters \n",
    "from sklearn.model_selection import GridSearchCV\n",
    "from sklearn.model_selection import RandomizedSearchCV\n",
    "\n",
    "# Cross-validation \n",
    "from sklearn.model_selection import KFold\n",
    "from sklearn.model_selection import cross_val_score"
   ]
  },
  {
   "cell_type": "markdown",
   "metadata": {},
   "source": [
    "## 2-class classification problem - Confusion Matrix "
   ]
  },
  {
   "cell_type": "markdown",
   "metadata": {},
   "source": [
    "## The notebook uses confusion matrix to measure the effectiveness and the performance of our models."
   ]
  },
  {
   "cell_type": "markdown",
   "metadata": {},
   "source": [
    "### The confusion matrix will be applied on every model so instead of creating a confusion matrix everytime, the notebook will make an use of a function which does that for us. The function will need only the parameters which we want to measure. "
   ]
  },
  {
   "cell_type": "code",
   "execution_count": 168,
   "metadata": {
    "collapsed": true
   },
   "outputs": [],
   "source": [
    "# Confusion Matrix \n",
    "# The notebook is a 2-class classification problem because we split the URLs \n",
    "# into Malicious[1] and Benign[0]\n",
    "# The confusion matrix is a table with four different combinations - TP, FP, FN, TN \n",
    "# (True Positive, False Positive , False Negative and True Negative)\n",
    "\n",
    "def evaluation_report(cmatrix,score,creport):\n",
    "    cmatrix = cmatrix.T\n",
    "    sns.heatmap(cmatrix, annot=True, fmt=\"d\", linewidths = 5, square = True,\n",
    "               cmap = 'Blues', annot_kws = {'size':16},\n",
    "                xticklabels = ['Benign','Malicious'],\n",
    "                yticklabels = ['Benign','Malicious'])\n",
    "    \n",
    "    plt.xticks(rotation='horizontal',fontsize =16)\n",
    "    plt.yticks(rotation='horizontal',fontsize =16)\n",
    "    plt.xlabel('Actual', size = 20);\n",
    "    plt.ylabel('Predicted', size = 20);\n",
    "\n",
    "    title = 'Accuracy score:'.format(score)\n",
    "    plt.title(title,size=20)\n",
    "    print(creport)\n",
    "    plt.show()"
   ]
  },
  {
   "cell_type": "markdown",
   "metadata": {},
   "source": [
    "# 9.1 Splitting the Data"
   ]
  },
  {
   "cell_type": "code",
   "execution_count": 78,
   "metadata": {},
   "outputs": [
    {
     "data": {
      "text/plain": [
       "((15000, 10), (15000,))"
      ]
     },
     "execution_count": 78,
     "metadata": {},
     "output_type": "execute_result"
    }
   ],
   "source": [
    "# Separe X and y and assign columns to X & y \n",
    "y = final_data['Label']\n",
    "X = final_data.drop('Label', axis = 1)\n",
    "X.shape, y.shape"
   ]
  },
  {
   "cell_type": "markdown",
   "metadata": {},
   "source": [
    "## Train-Test Split Procedure "
   ]
  },
  {
   "cell_type": "markdown",
   "metadata": {},
   "source": [
    "### The notebook splits the dataset into training and testing set. As a result of that, we avoid unbiased evaluation of the performance of our models.  "
   ]
  },
  {
   "cell_type": "code",
   "execution_count": 79,
   "metadata": {},
   "outputs": [
    {
     "data": {
      "text/plain": [
       "((12000, 10), (3000, 10))"
      ]
     },
     "execution_count": 79,
     "metadata": {},
     "output_type": "execute_result"
    }
   ],
   "source": [
    "# We make use of the scikit-learn package - train_test_split for splitting \n",
    "# our dataset into training and testing set \n",
    "# The training and testing sets are 80:20 ratio respectively ; randomization is set to 12\n",
    "# We perform train_test_split on X & y which gives us\n",
    "# for sequences : X_train ; X_test ; y_train & y_test\n",
    "X_train, X_test, y_train, y_test = train_test_split(X, y, \n",
    "                                                    test_size = 0.2, random_state = 12)\n",
    "X_train.shape, X_test.shape"
   ]
  },
  {
   "cell_type": "markdown",
   "metadata": {},
   "source": [
    "### Once the data has been split into training and testing we can feed it to our models and evaluate their performance."
   ]
  },
  {
   "cell_type": "markdown",
   "metadata": {},
   "source": [
    "# 9.2 Support Vector Machine "
   ]
  },
  {
   "cell_type": "markdown",
   "metadata": {},
   "source": [
    "The first algorithm used for classifing our dataset is Support Vector Machine (SVM).  "
   ]
  },
  {
   "cell_type": "markdown",
   "metadata": {},
   "source": [
    "Our dataset is classified as Malicious[1] or Benign [0]; therefore, the problem is supervised. Support Vector Machine is a supervised machine learning model that uses classification algorithms for two-group classification problem. The notebook can be classified as a 2-group classification problem. Greater explanation of how SVM works can be find in the project report. "
   ]
  },
  {
   "cell_type": "code",
   "execution_count": 187,
   "metadata": {},
   "outputs": [
    {
     "data": {
      "text/plain": [
       "SVC(C=1.0, cache_size=200, class_weight=None, coef0=0.0,\n",
       "  decision_function_shape=None, degree=3, gamma='auto', kernel='linear',\n",
       "  max_iter=-1, probability=False, random_state=12, shrinking=True,\n",
       "  tol=0.001, verbose=False)"
      ]
     },
     "execution_count": 187,
     "metadata": {},
     "output_type": "execute_result"
    }
   ],
   "source": [
    "# Implementing the Support Vector Classifier (SVC)\n",
    "# in this implementation the algorithms takes as parameters \n",
    "# the kernel, regularization and random_state\n",
    "\n",
    "# The model uses linear kernel computation  \n",
    "svm = SVC(kernel='linear', C=1.0, random_state=12)\n",
    "# fit the model with the training set\n",
    "svm.fit(X_train, y_train)"
   ]
  },
  {
   "cell_type": "code",
   "execution_count": 188,
   "metadata": {
    "collapsed": true
   },
   "outputs": [],
   "source": [
    "# Perform prediction on the sets\n",
    "y_test_svm = svm.predict(X_test)\n",
    "y_train_svm = svm.predict(X_train)"
   ]
  },
  {
   "cell_type": "code",
   "execution_count": 189,
   "metadata": {},
   "outputs": [
    {
     "name": "stdout",
     "output_type": "stream",
     "text": [
      "SVM: Accuracy on training Data: 0.872\n",
      "SVM: Accuracy on test Data: 0.872\n"
     ]
    }
   ],
   "source": [
    "# computing the accuracy of the model performance\n",
    "acc_train_svm = accuracy_score(y_train,y_train_svm)\n",
    "acc_test_svm = accuracy_score(y_test,y_test_svm)\n",
    "\n",
    "print(\"SVM: Accuracy on training Data: {:.3f}\".format(acc_train_svm))\n",
    "print(\"SVM: Accuracy on test Data: {:.3f}\".format(acc_test_svm))"
   ]
  },
  {
   "cell_type": "markdown",
   "metadata": {},
   "source": [
    "The overall accuracy that our SVM model provides us with is  ~ 0.87/88%."
   ]
  },
  {
   "cell_type": "code",
   "execution_count": 190,
   "metadata": {},
   "outputs": [
    {
     "name": "stdout",
     "output_type": "stream",
     "text": [
      "AUC score: 0.8726957150268119\n"
     ]
    }
   ],
   "source": [
    "false_positive_svm, true_positive_svm, thresholds = roc_curve(y_test, y_test_svm)\n",
    "roc_auc_score = auc(false_positive_svm, true_positive_svm)\n",
    "print('AUC score: {}'.format(roc_auc_score))"
   ]
  },
  {
   "cell_type": "markdown",
   "metadata": {},
   "source": [
    "## SVM Tunning Experiment "
   ]
  },
  {
   "cell_type": "code",
   "execution_count": 160,
   "metadata": {},
   "outputs": [
    {
     "name": "stdout",
     "output_type": "stream",
     "text": [
      "SVM: Accuracy on training Data: 0.955\n",
      "SVM : Accuracy on test Data: 0.943\n"
     ]
    }
   ],
   "source": [
    "# SVM tuning experiment\n",
    "\n",
    "# Tunning the parameters \n",
    "svm_tunning = SVC(C=1.0, kernel='rbf', degree=3, gamma=1.0, coef0=0, \n",
    "                  shrinking=True, probability=False, tol=0.001, \n",
    "                  cache_size=200, \n",
    "                  class_weight=None, verbose=False, max_iter=-1, \n",
    "                  decision_function_shape='ovr', random_state=None)\n",
    "\n",
    "# Fit the model with the training set\n",
    "svm_tunning.fit(X_train,y_train)\n",
    "\n",
    "# Perform prediction on the sets\n",
    "y_test_svm_tunning = svm_tunning.predict(X_test)\n",
    "y_train_svm_tunning = svm_tunning.predict(X_train)\n",
    "\n",
    "# Compute the accuracy of the model's performance\n",
    "acc_train_svm_tunning = accuracy_score(y_train,y_train_svm_tunning)\n",
    "acc_test_svm_tunning = accuracy_score(y_test,y_test_svm_tunning)\n",
    "\n",
    "# Display the accuracy of both sets\n",
    "print(\"SVM: Accuracy on training Data: {:.3f}\".format(acc_train_svm_tunning))\n",
    "print(\"SVM : Accuracy on test Data: {:.3f}\".format(acc_test_svm_tunning))"
   ]
  },
  {
   "cell_type": "markdown",
   "metadata": {},
   "source": [
    "The overall test accuracy from tunning the parameters of the SVM model has increased to ~ 0.94/95%. "
   ]
  },
  {
   "cell_type": "code",
   "execution_count": 169,
   "metadata": {},
   "outputs": [
    {
     "name": "stdout",
     "output_type": "stream",
     "text": [
      "             precision    recall  f1-score   support\n",
      "\n",
      "          0       0.93      0.95      0.94      1479\n",
      "          1       0.95      0.93      0.94      1521\n",
      "\n",
      "avg / total       0.94      0.94      0.94      3000\n",
      "\n"
     ]
    },
    {
     "data": {
      "image/png": "[encoded data removed]",
      "text/plain": [
       "<matplotlib.figure.Figure at 0x21ef05ef320>"
      ]
     },
     "metadata": {},
     "output_type": "display_data"
    }
   ],
   "source": [
    "# Generate the evaluation report \n",
    "\n",
    "confusion_matrix_svm = confusion_matrix(y_test, y_test_svm_tunning)\n",
    "classification_report_svm = classification_report(y_test,y_test_svm_tunning)\n",
    "\n",
    "# Call the evaluation_report function\n",
    "evaluation_report(confusion_matrix_svm,acc_test_svm_tunning,classification_report_svm)"
   ]
  },
  {
   "cell_type": "code",
   "execution_count": 164,
   "metadata": {},
   "outputs": [
    {
     "name": "stdout",
     "output_type": "stream",
     "text": [
      "Precision score: 0.9542395693135935\n",
      "Recall score: 0.9322813938198553\n"
     ]
    }
   ],
   "source": [
    "print(\"Precision score: {}\".format(precision_score(y_test,y_test_svm_tunning)))\n",
    "print(\"Recall score: {}\".format(recall_score(y_test,y_test_svm_tunning)))"
   ]
  },
  {
   "cell_type": "markdown",
   "metadata": {},
   "source": [
    "## We will use AUC (Area Under Curve) as evaluation metric. The notebook is a binary classification problem. Thus, the AUC is adequate approache for evaluating the model. "
   ]
  },
  {
   "cell_type": "code",
   "execution_count": 192,
   "metadata": {},
   "outputs": [
    {
     "name": "stdout",
     "output_type": "stream",
     "text": [
      "AUC score: 0.9431521911628012\n"
     ]
    }
   ],
   "source": [
    "# Evaluation Metric\n",
    "false_positive_svm_tuned, true_positive_svm_tuned, thresholds = roc_curve(y_test, y_test_svm_tunning)\n",
    "roc_auc_score = auc(false_positive_svm_tuned, true_positive_svm_tuned)\n",
    "print('AUC score: {}'.format(roc_auc_score))\n"
   ]
  },
  {
   "cell_type": "code",
   "execution_count": 193,
   "metadata": {},
   "outputs": [
    {
     "data": {
      "image/png": "[encoded data removed]",
      "text/plain": [
       "<matplotlib.figure.Figure at 0x21ef57e5668>"
      ]
     },
     "metadata": {},
     "output_type": "display_data"
    }
   ],
   "source": [
    "# plot roc curves\n",
    "\n",
    "plt.plot(false_positive_svm_tuned, true_positive_svm_tuned, linestyle='--',color='red', label='Support Vector Machine')\n",
    "plt.title('ROC curve')\n",
    "plt.xlabel('False Positive Rate')\n",
    "plt.ylabel('True Positive rate')\n",
    "plt.legend(loc='lower right')\n",
    "plt.show();"
   ]
  },
  {
   "cell_type": "markdown",
   "metadata": {},
   "source": [
    " ## The notebook make us of Cross-validation because we can estimate how accurately the module will perform  against unseen data in practice. "
   ]
  },
  {
   "cell_type": "code",
   "execution_count": 152,
   "metadata": {},
   "outputs": [
    {
     "name": "stdout",
     "output_type": "stream",
     "text": [
      "Average accuracy: 0.9306666666666669\n"
     ]
    }
   ],
   "source": [
    "# Cross validation of svm_tunning\n",
    "# Implementing Kfold Cross Validation\n",
    "# setting the number of slipts to 10\n",
    "# shuffling the data before splitting into sub-sets\n",
    "# and then the samples from the sub-sets will be taken randomly\n",
    "Kfold = KFold(n_splits=10, random_state=10, shuffle= True)\n",
    "\n",
    "# Implementng the cross_val_score which evaluate the score from the Kfold\n",
    "# for an estimator we use the Support Vector Machine - tunned version\n",
    "cross_validated_score = cross_val_score(svm_tunning, X_test, y_test, cv = Kfold)\n",
    " \n",
    "print(\"Average accuracy: {}\".format(cross_validated_score.mean()))"
   ]
  },
  {
   "cell_type": "markdown",
   "metadata": {},
   "source": [
    "# 9.3 Decision Tree Classifier"
   ]
  },
  {
   "cell_type": "markdown",
   "metadata": {},
   "source": [
    "The second model uses Decision Tree Classifier for classifying our dataset."
   ]
  },
  {
   "cell_type": "markdown",
   "metadata": {},
   "source": [
    "A Decision Tree Classifier is used for classifying examples. \n",
    "Same as SVM, the Decision Tree is supervised machine learning algorithm, which uses multiple algorithms that splits the data continuously to a certain parameter. Then the result is used for predicting the class of the URL in our case. Greater explanation of how Decision Tree Classifier is working can be find in the Project report"
   ]
  },
  {
   "cell_type": "code",
   "execution_count": 300,
   "metadata": {},
   "outputs": [
    {
     "data": {
      "text/plain": [
       "DecisionTreeClassifier(class_weight=None, criterion='gini', max_depth=5,\n",
       "            max_features=None, max_leaf_nodes=None,\n",
       "            min_impurity_split=1e-07, min_samples_leaf=1,\n",
       "            min_samples_split=2, min_weight_fraction_leaf=0.0,\n",
       "            presort=False, random_state=None, splitter='best')"
      ]
     },
     "execution_count": 300,
     "metadata": {},
     "output_type": "execute_result"
    }
   ],
   "source": [
    "# Implementing the Decision Tree Classifier \n",
    "# The tree will split the data until it reaches depth of 5\n",
    "# which is the maximum depth in our case \n",
    "tree = DecisionTreeClassifier(max_depth = 5)\n",
    "\n",
    "# Fitting the model with the training sets\n",
    "tree.fit(X_train, y_train)"
   ]
  },
  {
   "cell_type": "code",
   "execution_count": 301,
   "metadata": {
    "collapsed": true
   },
   "outputs": [],
   "source": [
    "# Perform prediction on the sets\n",
    "y_test_tree = tree.predict(X_test)\n",
    "y_train_tree = tree.predict(X_train)"
   ]
  },
  {
   "cell_type": "code",
   "execution_count": 302,
   "metadata": {},
   "outputs": [
    {
     "name": "stdout",
     "output_type": "stream",
     "text": [
      "Decision Tree: Accuracy on training Data: 0.890\n",
      "Decision Tree: Accuracy on test Data: 0.890\n"
     ]
    }
   ],
   "source": [
    "# Computing the accuracy of the model performance\n",
    "acc_train_tree = accuracy_score(y_train,y_train_tree)\n",
    "acc_test_tree = accuracy_score(y_test,y_test_tree)\n",
    "\n",
    "print(\"Decision Tree: Accuracy on training Data: {:.3f}\".format(acc_train_tree))\n",
    "print(\"Decision Tree: Accuracy on test Data: {:.3f}\".format(acc_test_tree))"
   ]
  },
  {
   "cell_type": "markdown",
   "metadata": {},
   "source": [
    "The overall accuracy of the testing data is 0.89 %. By applying the same method with tunning the parameters, we will try to increase the testing accuracy"
   ]
  },
  {
   "cell_type": "code",
   "execution_count": 137,
   "metadata": {},
   "outputs": [
    {
     "data": {
      "text/plain": [
       "DecisionTreeClassifier(class_weight=None, criterion='gini', max_depth=None,\n",
       "            max_features=None, max_leaf_nodes=None,\n",
       "            min_impurity_split=1e-07, min_samples_leaf=1,\n",
       "            min_samples_split=2, min_weight_fraction_leaf=0.0,\n",
       "            presort=False, random_state=0, splitter='best')"
      ]
     },
     "execution_count": 137,
     "metadata": {},
     "output_type": "execute_result"
    }
   ],
   "source": [
    "# DeisionTreeClassifier tunning experiment\n",
    "\n",
    "tree_tunning = DecisionTreeClassifier(class_weight=None, criterion='gini', max_depth=None,\n",
    " max_features=None, max_leaf_nodes=None,\n",
    " min_impurity_split=1e-07, min_samples_leaf=1,\n",
    " min_samples_split=2, min_weight_fraction_leaf=0.0,\n",
    " presort=False, random_state=0, splitter='best')\n",
    "\n",
    "tree_tunning.fit(X_train,y_train)"
   ]
  },
  {
   "cell_type": "code",
   "execution_count": 138,
   "metadata": {
    "collapsed": true
   },
   "outputs": [],
   "source": [
    "# Perform classification on the testing and training set\n",
    "y_test_tree_tunning = tree_tunning.predict(X_test)\n",
    "y_train_tree_tunning = tree_tunning.predict(X_train)"
   ]
  },
  {
   "cell_type": "code",
   "execution_count": 139,
   "metadata": {},
   "outputs": [
    {
     "name": "stdout",
     "output_type": "stream",
     "text": [
      "Decision Tree: Accuracy on training Data: 0.956\n",
      "Decision Tree: Accuracy on test Data: 0.944\n"
     ]
    }
   ],
   "source": [
    "#computing the accuracy of the model performance\n",
    "\n",
    "acc_train_tree_tun = accuracy_score(y_train,y_train_tree_tunning)\n",
    "acc_test_tree_tun = accuracy_score(y_test,y_test_tree_tunning)\n",
    "\n",
    "print(\"Decision Tree: Accuracy on training Data: {:.3f}\".format(acc_train_tree_tun))\n",
    "print(\"Decision Tree: Accuracy on test Data: {:.3f}\".format(acc_test_tree_tun))"
   ]
  },
  {
   "cell_type": "code",
   "execution_count": 140,
   "metadata": {},
   "outputs": [
    {
     "name": "stdout",
     "output_type": "stream",
     "text": [
      "             precision    recall  f1-score   support\n",
      "\n",
      "          0       0.93      0.96      0.94      1479\n",
      "          1       0.96      0.93      0.94      1521\n",
      "\n",
      "avg / total       0.94      0.94      0.94      3000\n",
      "\n"
     ]
    },
    {
     "data": {
      "image/png": "[encoded data removed]",
      "text/plain": [
       "<matplotlib.figure.Figure at 0x21ef0555c50>"
      ]
     },
     "metadata": {},
     "output_type": "display_data"
    }
   ],
   "source": [
    "# Generate the evaluation report for Decision Tree Classifier\n",
    "\n",
    "confusion_matrix_tree = confusion_matrix(y_test, y_test_tree_tunning)\n",
    "classification_report_tree = classification_report(y_test,y_test_tree_tunning)\n",
    "accuracy_test_tree = accuracy_score(y_test,y_test_tree_tunning)\n",
    "\n",
    "# Call the evaluation_report function\n",
    "evaluation_report(confusion_matrix_tree,accuracy_test_tree,classification_report_tree)"
   ]
  },
  {
   "cell_type": "code",
   "execution_count": 181,
   "metadata": {},
   "outputs": [
    {
     "name": "stdout",
     "output_type": "stream",
     "text": [
      "AUC score: 0.9439030049889778\n"
     ]
    }
   ],
   "source": [
    "# Evaluation metric\n",
    "false_positive_tree, true_positive_tree, thresholds = roc_curve(y_test, y_test_tree_tunning)\n",
    "roc_auc_score = auc(false_positive_tree, true_positive_tree)\n",
    "print('AUC score: {}'.format(roc_auc_score))"
   ]
  },
  {
   "cell_type": "code",
   "execution_count": 142,
   "metadata": {},
   "outputs": [
    {
     "name": "stdout",
     "output_type": "stream",
     "text": [
      "Average accuracy: 0.93\n"
     ]
    }
   ],
   "source": [
    "# Implementing Kfold Cross Validation\n",
    "# setting the number of slipts to 10\n",
    "# shuffling the data before splitting into sub-sets\n",
    "# and then the samples from the sub-sets will be taken randomly\n",
    "k = 10\n",
    "Kfold = KFold(n_splits=k, random_state=10, shuffle= True)\n",
    "\n",
    "# Implementng the cross_val_score which evaluate the score from the Kfold\n",
    "# for an estimator we use the Decision Tree Classifier - tunned version\n",
    "cross_validated_score = cross_val_score(tree_tunning, X_test, y_test, cv = Kfold)\n",
    "\n",
    "print(\"Average accuracy: {}\".format(cross_validated_score.mean()))"
   ]
  },
  {
   "cell_type": "markdown",
   "metadata": {},
   "source": [
    "# 9.4 Random Forest Classifier "
   ]
  },
  {
   "cell_type": "markdown",
   "metadata": {},
   "source": [
    "The third model uses Random Forest Classifier for classifying our dataset."
   ]
  },
  {
   "cell_type": "markdown",
   "metadata": {},
   "source": [
    "Random Forest Classifier is a powerful machine learning algorithm. Greater explanation can be found in the Project report."
   ]
  },
  {
   "cell_type": "code",
   "execution_count": 143,
   "metadata": {},
   "outputs": [
    {
     "data": {
      "text/plain": [
       "RandomForestClassifier(bootstrap=True, class_weight=None, criterion='gini',\n",
       "            max_depth=5, max_features='auto', max_leaf_nodes=None,\n",
       "            min_impurity_split=1e-07, min_samples_leaf=1,\n",
       "            min_samples_split=2, min_weight_fraction_leaf=0.0,\n",
       "            n_estimators=10, n_jobs=1, oob_score=False, random_state=None,\n",
       "            verbose=0, warm_start=False)"
      ]
     },
     "execution_count": 143,
     "metadata": {},
     "output_type": "execute_result"
    }
   ],
   "source": [
    "# Implementing the Random Forest Classifier \n",
    "# The tree will split the data until it reaches depth of 5\n",
    "# which is the maximum depth in our case \n",
    "rfc = RandomForestClassifier(max_depth = 5)\n",
    "\n",
    "# Fitting the model with the training set\n",
    "rfc.fit(X_train,y_train)"
   ]
  },
  {
   "cell_type": "code",
   "execution_count": 144,
   "metadata": {},
   "outputs": [
    {
     "name": "stdout",
     "output_type": "stream",
     "text": [
      "Random Forest Classifier: Accuracy on training Data: 0.902\n",
      "Random Forest Classifier: Accuracy on test Data: 0.902\n"
     ]
    }
   ],
   "source": [
    "# Perform prediction on the sets\n",
    "y_test_rfc = rfc.predict(X_test)\n",
    "y_train_rfc = rfc.predict(X_train)\n",
    "\n",
    "# Computing the accuracy of the model performance\n",
    "acc_train_rfc = accuracy_score(y_train,y_train_rfc)\n",
    "acc_test_rfc = accuracy_score(y_test,y_test_rfc)\n",
    "print(\"Random Forest Classifier: Accuracy on training Data: {:.3f}\".format(acc_train_rfc))\n",
    "print(\"Random Forest Classifier: Accuracy on test Data: {:.3f}\".format(acc_test_rfc))"
   ]
  },
  {
   "cell_type": "code",
   "execution_count": 182,
   "metadata": {},
   "outputs": [
    {
     "name": "stdout",
     "output_type": "stream",
     "text": [
      "AUC score: 0.9027856126467455\n"
     ]
    }
   ],
   "source": [
    "false_positive_rfc, true_positive_rfc, thresholds = roc_curve(y_test, y_test_rfc)\n",
    "roc_auc_score = auc(false_positive_rfc, true_positive_rfc)\n",
    "print('AUC score: {}'.format(roc_auc_score))"
   ]
  },
  {
   "cell_type": "markdown",
   "metadata": {},
   "source": [
    "### Here we are going to apply grid search to find the best tunned parameters; so we can boost the performance of the model."
   ]
  },
  {
   "cell_type": "code",
   "execution_count": 111,
   "metadata": {},
   "outputs": [
    {
     "data": {
      "text/plain": [
       "GridSearchCV(cv=5, error_score='raise',\n",
       "       estimator=RandomForestClassifier(bootstrap=True, class_weight=None, criterion='gini',\n",
       "            max_depth=None, max_features='auto', max_leaf_nodes=None,\n",
       "            min_impurity_split=1e-07, min_samples_leaf=1,\n",
       "            min_samples_split=2, min_weight_fraction_leaf=0.0,\n",
       "            n_estimators=10, n_jobs=1, oob_score=False, random_state=None,\n",
       "            verbose=0, warm_start=False),\n",
       "       fit_params={}, iid=True, n_jobs=1,\n",
       "       param_grid={'n_estimators': [5, 10, 100], 'max_features': [None, 5, 10], 'max_depth': [None, 5, 10]},\n",
       "       pre_dispatch='2*n_jobs', refit=True, return_train_score=True,\n",
       "       scoring=None, verbose=0)"
      ]
     },
     "execution_count": 111,
     "metadata": {},
     "output_type": "execute_result"
    }
   ],
   "source": [
    "# Find best tunning params \n",
    "\n",
    "# Calling the classifier constructor\n",
    "rfc_params = RandomForestClassifier()\n",
    "\n",
    "# Making list of all the parameters we want to tune\n",
    "n_estimators = [5,10,100]\n",
    "max_depth = [None,5,10]\n",
    "max_features = [None,5,10]\n",
    "\n",
    "grid_parameters = {\n",
    "    \"n_estimators\": n_estimators,\n",
    "    \"max_features\": max_features,\n",
    "    \"max_depth\":max_depth\n",
    "}\n",
    "\n",
    "\n",
    "# Pass the classifier and parameters and the number of iterations in the GridSearchCV method. \n",
    "cv = GridSearchCV(rfc_params,grid_parameters,cv=5)\n",
    "\n",
    "# Fitting the training set - we use ravel() to convert the set to a one-dimensional array\n",
    "cv.fit(X_train,y_train.values.ravel())"
   ]
  },
  {
   "cell_type": "code",
   "execution_count": 116,
   "metadata": {},
   "outputs": [],
   "source": [
    "# Tunning_params display the parameters for each iteration and then prints the best one\n",
    "# The best parameters are based on the best accuracy of the parameters evaluated in the iterations\n",
    "# Referencing: https://www.datasciencelearner.com/how-to-improve-accuracy-of-random-forest-classifier/\n",
    "def tunning_params(tunned_params):\n",
    "    print('Best parameters are: {}'.format(tunned_params.best_params_),'\\n')\n",
    "    mean_score = tunned_params.cv_results_['mean_test_score']\n",
    "    std_score = tunned_params.cv_results_['std_test_score']\n",
    "    params = tunned_params.cv_results_['params']\n",
    "    for mean,std,params in zip(mean_score,std_score,params):\n",
    "        print(f'{round(mean,3)} + or -{round(std,3)} for the {params} ')"
   ]
  },
  {
   "cell_type": "code",
   "execution_count": 117,
   "metadata": {},
   "outputs": [
    {
     "name": "stdout",
     "output_type": "stream",
     "text": [
      "Best parameters are: {'max_depth': None, 'max_features': 5, 'n_estimators': 100} \n",
      "\n",
      "0.942 + or -0.007 for the {'max_depth': None, 'max_features': None, 'n_estimators': 5} \n",
      "0.944 + or -0.006 for the {'max_depth': None, 'max_features': None, 'n_estimators': 10} \n",
      "0.945 + or -0.006 for the {'max_depth': None, 'max_features': None, 'n_estimators': 100} \n",
      "0.944 + or -0.006 for the {'max_depth': None, 'max_features': 5, 'n_estimators': 5} \n",
      "0.944 + or -0.007 for the {'max_depth': None, 'max_features': 5, 'n_estimators': 10} \n",
      "0.946 + or -0.007 for the {'max_depth': None, 'max_features': 5, 'n_estimators': 100} \n",
      "0.941 + or -0.007 for the {'max_depth': None, 'max_features': 10, 'n_estimators': 5} \n",
      "0.943 + or -0.005 for the {'max_depth': None, 'max_features': 10, 'n_estimators': 10} \n",
      "0.944 + or -0.006 for the {'max_depth': None, 'max_features': 10, 'n_estimators': 100} \n",
      "0.903 + or -0.007 for the {'max_depth': 5, 'max_features': None, 'n_estimators': 5} \n",
      "0.903 + or -0.011 for the {'max_depth': 5, 'max_features': None, 'n_estimators': 10} \n",
      "0.906 + or -0.006 for the {'max_depth': 5, 'max_features': None, 'n_estimators': 100} \n",
      "0.904 + or -0.008 for the {'max_depth': 5, 'max_features': 5, 'n_estimators': 5} \n",
      "0.906 + or -0.004 for the {'max_depth': 5, 'max_features': 5, 'n_estimators': 10} \n",
      "0.912 + or -0.004 for the {'max_depth': 5, 'max_features': 5, 'n_estimators': 100} \n",
      "0.901 + or -0.015 for the {'max_depth': 5, 'max_features': 10, 'n_estimators': 5} \n",
      "0.905 + or -0.008 for the {'max_depth': 5, 'max_features': 10, 'n_estimators': 10} \n",
      "0.91 + or -0.007 for the {'max_depth': 5, 'max_features': 10, 'n_estimators': 100} \n",
      "0.94 + or -0.005 for the {'max_depth': 10, 'max_features': None, 'n_estimators': 5} \n",
      "0.939 + or -0.006 for the {'max_depth': 10, 'max_features': None, 'n_estimators': 10} \n",
      "0.94 + or -0.006 for the {'max_depth': 10, 'max_features': None, 'n_estimators': 100} \n",
      "0.937 + or -0.004 for the {'max_depth': 10, 'max_features': 5, 'n_estimators': 5} \n",
      "0.942 + or -0.006 for the {'max_depth': 10, 'max_features': 5, 'n_estimators': 10} \n",
      "0.943 + or -0.006 for the {'max_depth': 10, 'max_features': 5, 'n_estimators': 100} \n",
      "0.938 + or -0.006 for the {'max_depth': 10, 'max_features': 10, 'n_estimators': 5} \n",
      "0.94 + or -0.005 for the {'max_depth': 10, 'max_features': 10, 'n_estimators': 10} \n",
      "0.94 + or -0.006 for the {'max_depth': 10, 'max_features': 10, 'n_estimators': 100} \n"
     ]
    }
   ],
   "source": [
    "# Calling the function\n",
    "tunning_params(cv)"
   ]
  },
  {
   "cell_type": "code",
   "execution_count": 170,
   "metadata": {},
   "outputs": [
    {
     "name": "stdout",
     "output_type": "stream",
     "text": [
      "Random Forest Classifier: Accuracy on training Data: 0.956\n",
      "Random Forest Classifier: Accuracy on test Data: 0.945\n"
     ]
    }
   ],
   "source": [
    "# Random Forest Classifier Tunning Experiment\n",
    "\n",
    "rfc_tunning = RandomForestClassifier(n_estimators = 100, criterion = 'entropy', max_features= None, max_depth= None,\n",
    "                                    random_state=1, warm_start = True, bootstrap= True)\n",
    "\n",
    "# Fitting the model with the training set\n",
    "rfc_tunning.fit(X_train, y_train)\n",
    "\n",
    "# Perform prediction on the training set \n",
    "y_test_rfc_tunning = rfc_tunning.predict(X_test)\n",
    "y_train_rfc_tunning = rfc_tunning.predict(X_train)\n",
    "\n",
    "# Compute the accuracy of the model's performance\n",
    "acc_train_rfc_tunning = accuracy_score(y_train,y_train_rfc_tunning)\n",
    "acc_test_rfc_tunning = accuracy_score(y_test,y_test_rfc_tunning)\n",
    "\n",
    "# Display the accuracy of the model\n",
    "print(\"Random Forest Classifier: Accuracy on training Data: {:.3f}\".format(acc_train_rfc_tunning))\n",
    "print(\"Random Forest Classifier: Accuracy on test Data: {:.3f}\".format(acc_test_rfc_tunning))\n"
   ]
  },
  {
   "cell_type": "code",
   "execution_count": 171,
   "metadata": {},
   "outputs": [
    {
     "name": "stdout",
     "output_type": "stream",
     "text": [
      "             precision    recall  f1-score   support\n",
      "\n",
      "          0       0.93      0.96      0.94      1479\n",
      "          1       0.96      0.93      0.94      1521\n",
      "\n",
      "avg / total       0.95      0.94      0.94      3000\n",
      "\n"
     ]
    },
    {
     "data": {
      "image/png": "[encoded data removed]",
      "text/plain": [
       "<matplotlib.figure.Figure at 0x21ef05ef0b8>"
      ]
     },
     "metadata": {},
     "output_type": "display_data"
    }
   ],
   "source": [
    "# Generate the evaluation report for Random Forest Classifier\n",
    "\n",
    "confusion_matrix_tree = confusion_matrix(y_test, y_test_rfc_tunning)\n",
    "classification_report_tree = classification_report(y_test,y_test_rfc_tunning)\n",
    "\n",
    "# Call the evaluation_report function\n",
    "evaluation_report(confusion_matrix_tree,acc_test_rfc_tunning,classification_report_tree)"
   ]
  },
  {
   "cell_type": "markdown",
   "metadata": {},
   "source": [
    "## To determine if our model is over fitting we are going to test it on unseen data or first seen data.\n",
    "## The notebook make us of Cross-validation because we can estimate how accurately the module will perform  against unseen data in practice. "
   ]
  },
  {
   "cell_type": "markdown",
   "metadata": {},
   "source": [
    "In this notebook we apply Kfold Cross-Validation. We split the dataset into K number of sub-sets , in our case we are going to test it with k-10, the sub-sets are used to train the model and the last one is kept for testing the model, often the last sub-set is refered to as validation set. After testing the model, the average score is calculated by taking the mean of each sub-set's score.  "
   ]
  },
  {
   "cell_type": "code",
   "execution_count": 196,
   "metadata": {},
   "outputs": [
    {
     "name": "stdout",
     "output_type": "stream",
     "text": [
      "Average accuracy: 0.9316666666666666\n"
     ]
    }
   ],
   "source": [
    "# Implementing Kfold Cross Validation\n",
    "# setting the number of slipts to 10\n",
    "# shuffling the data before splitting into sub-sets\n",
    "# and then the samples from the sub-sets will be taken randomly\n",
    "# Referencing: https://www.askpython.com/python/examples/k-fold-cross-validation\n",
    "k = 10\n",
    "Kfold = KFold(n_splits=k, random_state=10, shuffle= True)\n",
    "\n",
    "# Implementng the cross_val_score which evaluate the score from the Kfold\n",
    "# for an estimator we use the Random Forest Classifier - tunned version\n",
    "cross_validated_score = cross_val_score(rfc_tunning, X_test, y_test, cv = Kfold)\n",
    "\n",
    "print(\"Average accuracy: {}\".format(cross_validated_score.mean()))"
   ]
  },
  {
   "cell_type": "markdown",
   "metadata": {},
   "source": [
    "### From the output here we can conclude that the model performs almost the same against unseen or first seen data. Therefore, the predictive model must perform with the same accuracy in practice. "
   ]
  },
  {
   "cell_type": "markdown",
   "metadata": {},
   "source": [
    "### AUC evaluation metric"
   ]
  },
  {
   "cell_type": "code",
   "execution_count": 197,
   "metadata": {},
   "outputs": [
    {
     "name": "stdout",
     "output_type": "stream",
     "text": [
      "AUC score: 0.9448611927937874\n"
     ]
    }
   ],
   "source": [
    "# Evaluation Metric -\n",
    "false_positive_rfc_tuned, true_positive_rfc_tuned, thresholds = roc_curve(y_test, y_test_rfc_tunning)\n",
    "roc_auc_score = auc(false_positive_rfc_tuned, true_positive_rfc_tuned)\n",
    "print('AUC score: {}'.format(roc_auc_score))\n",
    "\n"
   ]
  },
  {
   "cell_type": "markdown",
   "metadata": {},
   "source": [
    "# 10. Conclusion"
   ]
  },
  {
   "cell_type": "markdown",
   "metadata": {},
   "source": [
    "## We will use AUC-ROC as evaluation metric. "
   ]
  },
  {
   "cell_type": "code",
   "execution_count": 194,
   "metadata": {},
   "outputs": [
    {
     "data": {
      "image/png": "[encoded data removed]",
      "text/plain": [
       "<matplotlib.figure.Figure at 0x21ef57ad860>"
      ]
     },
     "metadata": {},
     "output_type": "display_data"
    }
   ],
   "source": [
    "# plot roc curves\n",
    "\n",
    "plt.plot(false_positive_rfc_tuned, true_positive_rfc_tuned, linestyle='--',color='red', label='Random Forest Classifier')\n",
    "plt.plot(false_positive_svm_tuned, true_positive_svm_tuned, linestyle='-',color='green', label='Support Vector Machine')\n",
    "plt.plot(false_positive_rfc, true_positive_rfc, linestyle= '--', color='blue',label= 'RFC default params')\n",
    "plt.plot(false_positive_svm, true_positive_svm, linestyle='--',color='yellow', label= 'SVM default params')\n",
    "plt.title('ROC curve')\n",
    "plt.xlabel('False Positive Rate')\n",
    "plt.ylabel('True Positive rate')\n",
    "plt.legend(loc='lower right')\n",
    "plt.show();"
   ]
  },
  {
   "cell_type": "markdown",
   "metadata": {},
   "source": [
    "# 11. References"
   ]
  },
  {
   "cell_type": "markdown",
   "metadata": {},
   "source": [
    "https://github.com/shreyagopal/Phishing-Website-Detection-by-Machine-Learning-Techniques/blob/master/Phishing%20Website%20Detection_Models%20%26%20Training.ipynb\n",
    "\n",
    "https://github.com/surajr/URL-Classification/blob/master/URL%20Classification.ipynb\n",
    "\n",
    "https://github.com/shreyagopal/t81_558_deep_learning/blob/master/t81_558_class_14_03_anomaly.ipynb\n",
    "\n",
    "https://github.com/NetsecExplained/Machine-Learning-for-Security-Analysts/blob/master/Workbooks/Workbook_(complete)_Malicious_URL_Predictor.ipynb"
   ]
  }
 ],
 "metadata": {
  "kernelspec": {
   "display_name": "Python 3",
   "language": "python",
   "name": "python3"
  },
  "language_info": {
   "codemirror_mode": {
    "name": "ipython",
    "version": 3
   },
   "file_extension": ".py",
   "mimetype": "text/x-python",
   "name": "python",
   "nbconvert_exporter": "python",
   "pygments_lexer": "ipython3",
   "version": "3.6.1"
  }
 },
 "nbformat": 4,
 "nbformat_minor": 2
}
